{
 "cells": [
  {
   "cell_type": "code",
   "execution_count": 1,
   "id": "a1741393-5687-4503-9560-01624bd1cb8e",
   "metadata": {},
   "outputs": [],
   "source": [
    "import numpy as np\n",
    "import pandas as pd\n",
    "import matplotlib.pyplot as plt\n",
    "import seaborn as sns\n",
    "import scipy as sp"
   ]
  },
  {
   "cell_type": "code",
   "execution_count": 2,
   "id": "e4bdc47e-15a1-4936-af42-14db8732005d",
   "metadata": {},
   "outputs": [],
   "source": [
    "df = pd.read_csv('Ml project data.csv')"
   ]
  },
  {
   "cell_type": "code",
   "execution_count": 3,
   "id": "21cf894f-7315-4f55-a214-52a321b56fc5",
   "metadata": {},
   "outputs": [
    {
     "data": {
      "text/html": [
       "<div>\n",
       "<style scoped>\n",
       "    .dataframe tbody tr th:only-of-type {\n",
       "        vertical-align: middle;\n",
       "    }\n",
       "\n",
       "    .dataframe tbody tr th {\n",
       "        vertical-align: top;\n",
       "    }\n",
       "\n",
       "    .dataframe thead th {\n",
       "        text-align: right;\n",
       "    }\n",
       "</style>\n",
       "<table border=\"1\" class=\"dataframe\">\n",
       "  <thead>\n",
       "    <tr style=\"text-align: right;\">\n",
       "      <th></th>\n",
       "      <th>diameter</th>\n",
       "      <th>wavelength</th>\n",
       "      <th>intensity</th>\n",
       "    </tr>\n",
       "  </thead>\n",
       "  <tbody>\n",
       "    <tr>\n",
       "      <th>0</th>\n",
       "      <td>20</td>\n",
       "      <td>506.820</td>\n",
       "      <td>137.31</td>\n",
       "    </tr>\n",
       "    <tr>\n",
       "      <th>1</th>\n",
       "      <td>30</td>\n",
       "      <td>506.820</td>\n",
       "      <td>482.06</td>\n",
       "    </tr>\n",
       "    <tr>\n",
       "      <th>2</th>\n",
       "      <td>40</td>\n",
       "      <td>506.820</td>\n",
       "      <td>1199.62</td>\n",
       "    </tr>\n",
       "    <tr>\n",
       "      <th>3</th>\n",
       "      <td>50</td>\n",
       "      <td>506.820</td>\n",
       "      <td>2496.40</td>\n",
       "    </tr>\n",
       "    <tr>\n",
       "      <th>4</th>\n",
       "      <td>60</td>\n",
       "      <td>512.440</td>\n",
       "      <td>4661.90</td>\n",
       "    </tr>\n",
       "    <tr>\n",
       "      <th>...</th>\n",
       "      <td>...</td>\n",
       "      <td>...</td>\n",
       "      <td>...</td>\n",
       "    </tr>\n",
       "    <tr>\n",
       "      <th>144</th>\n",
       "      <td>375</td>\n",
       "      <td>529.310</td>\n",
       "      <td>415905.00</td>\n",
       "    </tr>\n",
       "    <tr>\n",
       "      <th>145</th>\n",
       "      <td>366</td>\n",
       "      <td>568.670</td>\n",
       "      <td>401589.89</td>\n",
       "    </tr>\n",
       "    <tr>\n",
       "      <th>146</th>\n",
       "      <td>382</td>\n",
       "      <td>529.310</td>\n",
       "      <td>432879.45</td>\n",
       "    </tr>\n",
       "    <tr>\n",
       "      <th>147</th>\n",
       "      <td>390</td>\n",
       "      <td>529.310</td>\n",
       "      <td>454215.82</td>\n",
       "    </tr>\n",
       "    <tr>\n",
       "      <th>148</th>\n",
       "      <td>411</td>\n",
       "      <td>529.316</td>\n",
       "      <td>517682.13</td>\n",
       "    </tr>\n",
       "  </tbody>\n",
       "</table>\n",
       "<p>149 rows × 3 columns</p>\n",
       "</div>"
      ],
      "text/plain": [
       "     diameter   wavelength   intensity \n",
       "0           20      506.820      137.31\n",
       "1           30      506.820      482.06\n",
       "2           40      506.820     1199.62\n",
       "3           50      506.820     2496.40\n",
       "4           60      512.440     4661.90\n",
       "..         ...          ...         ...\n",
       "144        375      529.310   415905.00\n",
       "145        366      568.670   401589.89\n",
       "146        382      529.310   432879.45\n",
       "147        390      529.310   454215.82\n",
       "148        411      529.316   517682.13\n",
       "\n",
       "[149 rows x 3 columns]"
      ]
     },
     "execution_count": 3,
     "metadata": {},
     "output_type": "execute_result"
    }
   ],
   "source": [
    "df"
   ]
  },
  {
   "cell_type": "code",
   "execution_count": 4,
   "id": "d44c5962-9ed0-401b-a8f5-7164e15ebfdb",
   "metadata": {},
   "outputs": [],
   "source": [
    "X = df['diameter ']"
   ]
  },
  {
   "cell_type": "code",
   "execution_count": 5,
   "id": "5ba89a04-beb4-4ee3-a977-88f4709d6a5c",
   "metadata": {},
   "outputs": [
    {
     "data": {
      "text/plain": [
       "0       20\n",
       "1       30\n",
       "2       40\n",
       "3       50\n",
       "4       60\n",
       "      ... \n",
       "144    375\n",
       "145    366\n",
       "146    382\n",
       "147    390\n",
       "148    411\n",
       "Name: diameter , Length: 149, dtype: int64"
      ]
     },
     "execution_count": 5,
     "metadata": {},
     "output_type": "execute_result"
    }
   ],
   "source": [
    "X"
   ]
  },
  {
   "cell_type": "code",
   "execution_count": 6,
   "id": "c9d395e9-22fc-421c-8532-e4697dae9d49",
   "metadata": {},
   "outputs": [],
   "source": [
    "y = df['wavelength ']"
   ]
  },
  {
   "cell_type": "code",
   "execution_count": 7,
   "id": "a0ea6585-3ebc-4521-9865-ee8d855ec47c",
   "metadata": {},
   "outputs": [
    {
     "data": {
      "text/plain": [
       "0      506.820\n",
       "1      506.820\n",
       "2      506.820\n",
       "3      506.820\n",
       "4      512.440\n",
       "        ...   \n",
       "144    529.310\n",
       "145    568.670\n",
       "146    529.310\n",
       "147    529.310\n",
       "148    529.316\n",
       "Name: wavelength , Length: 149, dtype: float64"
      ]
     },
     "execution_count": 7,
     "metadata": {},
     "output_type": "execute_result"
    }
   ],
   "source": [
    "y"
   ]
  },
  {
   "cell_type": "code",
   "execution_count": 8,
   "id": "6858c009-6ccb-4d5b-9ee9-4c893e00a5fe",
   "metadata": {},
   "outputs": [
    {
     "data": {
      "text/plain": [
       "[<matplotlib.lines.Line2D at 0x157368862d0>]"
      ]
     },
     "execution_count": 8,
     "metadata": {},
     "output_type": "execute_result"
    },
    {
     "data": {
      "image/png": "[encoded data removed]",
      "text/plain": [
       "<Figure size 640x480 with 1 Axes>"
      ]
     },
     "metadata": {},
     "output_type": "display_data"
    }
   ],
   "source": [
    "plt.plot(X,y,'o')"
   ]
  },
  {
   "cell_type": "markdown",
   "id": "168a4f74-9490-4e12-b234-058c0eb39a9f",
   "metadata": {},
   "source": [
    "# TRAIN-TEST SPLIT "
   ]
  },
  {
   "cell_type": "code",
   "execution_count": 9,
   "id": "462d8618-e1ed-4a37-8fe6-ed7540deeb1c",
   "metadata": {},
   "outputs": [],
   "source": [
    "from sklearn.model_selection import train_test_split\n",
    "X_train,X_test,Y_train,Y_test = train_test_split(X,y,test_size=0.3, random_state=101)"
   ]
  },
  {
   "cell_type": "code",
   "execution_count": 10,
   "id": "2cfee469-f475-4250-bb56-50ebb9f5b6f3",
   "metadata": {},
   "outputs": [],
   "source": [
    "X_train = X_train.values.reshape(-1, 1)\n",
    "Y_train = Y_train.values.reshape(-1, 1)\n",
    "X_test = X_test.values.reshape(-1, 1)\n",
    "Y_test = Y_test.values.reshape(-1, 1)\n",
    "y = y.values.reshape(-1, 1)\n",
    "X = X.values.reshape(-1, 1)"
   ]
  },
  {
   "cell_type": "code",
   "execution_count": 11,
   "id": "df714d2c-2ede-49e8-8d44-219012956e5c",
   "metadata": {},
   "outputs": [
    {
     "data": {
      "text/plain": [
       "array([[321],\n",
       "       [149],\n",
       "       [390],\n",
       "       [200],\n",
       "       [ 60],\n",
       "       [348],\n",
       "       [219],\n",
       "       [477],\n",
       "       [270],\n",
       "       [280],\n",
       "       [119],\n",
       "       [ 80],\n",
       "       [335],\n",
       "       [203],\n",
       "       [249],\n",
       "       [371],\n",
       "       [373],\n",
       "       [366],\n",
       "       [158],\n",
       "       [130],\n",
       "       [491],\n",
       "       [ 50],\n",
       "       [228],\n",
       "       [ 88],\n",
       "       [ 79],\n",
       "       [390],\n",
       "       [356],\n",
       "       [231],\n",
       "       [ 40],\n",
       "       [307],\n",
       "       [105],\n",
       "       [329],\n",
       "       [319],\n",
       "       [312],\n",
       "       [215],\n",
       "       [254],\n",
       "       [220],\n",
       "       [170],\n",
       "       [390],\n",
       "       [277],\n",
       "       [235],\n",
       "       [260],\n",
       "       [302],\n",
       "       [286],\n",
       "       [259],\n",
       "       [205],\n",
       "       [ 22],\n",
       "       [396],\n",
       "       [145],\n",
       "       [120],\n",
       "       [279],\n",
       "       [317],\n",
       "       [135],\n",
       "       [401],\n",
       "       [150],\n",
       "       [211],\n",
       "       [281],\n",
       "       [275],\n",
       "       [369],\n",
       "       [341],\n",
       "       [301],\n",
       "       [ 90],\n",
       "       [360],\n",
       "       [225],\n",
       "       [165],\n",
       "       [312],\n",
       "       [265],\n",
       "       [391],\n",
       "       [100],\n",
       "       [341],\n",
       "       [420],\n",
       "       [214],\n",
       "       [ 20],\n",
       "       [383],\n",
       "       [222],\n",
       "       [411],\n",
       "       [486],\n",
       "       [110],\n",
       "       [160],\n",
       "       [291],\n",
       "       [416],\n",
       "       [305],\n",
       "       [255],\n",
       "       [361],\n",
       "       [327],\n",
       "       [267],\n",
       "       [244],\n",
       "       [ 66],\n",
       "       [327],\n",
       "       [377],\n",
       "       [ 70],\n",
       "       [242],\n",
       "       [311],\n",
       "       [375],\n",
       "       [346],\n",
       "       [285],\n",
       "       [368],\n",
       "       [496],\n",
       "       [101],\n",
       "       [399],\n",
       "       [406],\n",
       "       [ 39],\n",
       "       [115],\n",
       "       [144]], dtype=int64)"
      ]
     },
     "execution_count": 11,
     "metadata": {},
     "output_type": "execute_result"
    }
   ],
   "source": [
    "X_train"
   ]
  },
  {
   "cell_type": "code",
   "execution_count": 12,
   "id": "03f0f415-520d-4c69-a5fa-e946ff1c9dad",
   "metadata": {},
   "outputs": [],
   "source": [
    "from sklearn.linear_model import LinearRegression"
   ]
  },
  {
   "cell_type": "code",
   "execution_count": 13,
   "id": "9e5a1a9b-8612-4d79-ab27-c7d8f2dfcdf9",
   "metadata": {},
   "outputs": [],
   "source": [
    "mymodel = LinearRegression()"
   ]
  },
  {
   "cell_type": "code",
   "execution_count": 14,
   "id": "06d080c0-55e3-4875-b688-5441d3ed16bc",
   "metadata": {},
   "outputs": [
    {
     "data": {
      "text/html": [
       "<style>#sk-container-id-1 {color: black;background-color: white;}#sk-container-id-1 pre{padding: 0;}#sk-container-id-1 div.sk-toggleable {background-color: white;}#sk-container-id-1 label.sk-toggleable__label {cursor: pointer;display: block;width: 100%;margin-bottom: 0;padding: 0.3em;box-sizing: border-box;text-align: center;}#sk-container-id-1 label.sk-toggleable__label-arrow:before {content: \"▸\";float: left;margin-right: 0.25em;color: #696969;}#sk-container-id-1 label.sk-toggleable__label-arrow:hover:before {color: black;}#sk-container-id-1 div.sk-estimator:hover label.sk-toggleable__label-arrow:before {color: black;}#sk-container-id-1 div.sk-toggleable__content {max-height: 0;max-width: 0;overflow: hidden;text-align: left;background-color: #f0f8ff;}#sk-container-id-1 div.sk-toggleable__content pre {margin: 0.2em;color: black;border-radius: 0.25em;background-color: #f0f8ff;}#sk-container-id-1 input.sk-toggleable__control:checked~div.sk-toggleable__content {max-height: 200px;max-width: 100%;overflow: auto;}#sk-container-id-1 input.sk-toggleable__control:checked~label.sk-toggleable__label-arrow:before {content: \"▾\";}#sk-container-id-1 div.sk-estimator input.sk-toggleable__control:checked~label.sk-toggleable__label {background-color: #d4ebff;}#sk-container-id-1 div.sk-label input.sk-toggleable__control:checked~label.sk-toggleable__label {background-color: #d4ebff;}#sk-container-id-1 input.sk-hidden--visually {border: 0;clip: rect(1px 1px 1px 1px);clip: rect(1px, 1px, 1px, 1px);height: 1px;margin: -1px;overflow: hidden;padding: 0;position: absolute;width: 1px;}#sk-container-id-1 div.sk-estimator {font-family: monospace;background-color: #f0f8ff;border: 1px dotted black;border-radius: 0.25em;box-sizing: border-box;margin-bottom: 0.5em;}#sk-container-id-1 div.sk-estimator:hover {background-color: #d4ebff;}#sk-container-id-1 div.sk-parallel-item::after {content: \"\";width: 100%;border-bottom: 1px solid gray;flex-grow: 1;}#sk-container-id-1 div.sk-label:hover label.sk-toggleable__label {background-color: #d4ebff;}#sk-container-id-1 div.sk-serial::before {content: \"\";position: absolute;border-left: 1px solid gray;box-sizing: border-box;top: 0;bottom: 0;left: 50%;z-index: 0;}#sk-container-id-1 div.sk-serial {display: flex;flex-direction: column;align-items: center;background-color: white;padding-right: 0.2em;padding-left: 0.2em;position: relative;}#sk-container-id-1 div.sk-item {position: relative;z-index: 1;}#sk-container-id-1 div.sk-parallel {display: flex;align-items: stretch;justify-content: center;background-color: white;position: relative;}#sk-container-id-1 div.sk-item::before, #sk-container-id-1 div.sk-parallel-item::before {content: \"\";position: absolute;border-left: 1px solid gray;box-sizing: border-box;top: 0;bottom: 0;left: 50%;z-index: -1;}#sk-container-id-1 div.sk-parallel-item {display: flex;flex-direction: column;z-index: 1;position: relative;background-color: white;}#sk-container-id-1 div.sk-parallel-item:first-child::after {align-self: flex-end;width: 50%;}#sk-container-id-1 div.sk-parallel-item:last-child::after {align-self: flex-start;width: 50%;}#sk-container-id-1 div.sk-parallel-item:only-child::after {width: 0;}#sk-container-id-1 div.sk-dashed-wrapped {border: 1px dashed gray;margin: 0 0.4em 0.5em 0.4em;box-sizing: border-box;padding-bottom: 0.4em;background-color: white;}#sk-container-id-1 div.sk-label label {font-family: monospace;font-weight: bold;display: inline-block;line-height: 1.2em;}#sk-container-id-1 div.sk-label-container {text-align: center;}#sk-container-id-1 div.sk-container {/* jupyter's `normalize.less` sets `[hidden] { display: none; }` but bootstrap.min.css set `[hidden] { display: none !important; }` so we also need the `!important` here to be able to override the default hidden behavior on the sphinx rendered scikit-learn.org. See: https://github.com/scikit-learn/scikit-learn/issues/21755 */display: inline-block !important;position: relative;}#sk-container-id-1 div.sk-text-repr-fallback {display: none;}</style><div id=\"sk-container-id-1\" class=\"sk-top-container\"><div class=\"sk-text-repr-fallback\"><pre>LinearRegression()</pre><b>In a Jupyter environment, please rerun this cell to show the HTML representation or trust the notebook. <br />On GitHub, the HTML representation is unable to render, please try loading this page with nbviewer.org.</b></div><div class=\"sk-container\" hidden><div class=\"sk-item\"><div class=\"sk-estimator sk-toggleable\"><input class=\"sk-toggleable__control sk-hidden--visually\" id=\"sk-estimator-id-1\" type=\"checkbox\" checked><label for=\"sk-estimator-id-1\" class=\"sk-toggleable__label sk-toggleable__label-arrow\">LinearRegression</label><div class=\"sk-toggleable__content\"><pre>LinearRegression()</pre></div></div></div></div></div>"
      ],
      "text/plain": [
       "LinearRegression()"
      ]
     },
     "execution_count": 14,
     "metadata": {},
     "output_type": "execute_result"
    }
   ],
   "source": [
    "mymodel.fit(X_train,Y_train)"
   ]
  },
  {
   "cell_type": "code",
   "execution_count": 15,
   "id": "e5a9d443-8cd4-4120-aa3e-92b8a4570b6c",
   "metadata": {},
   "outputs": [],
   "source": [
    "test_prediction= mymodel.predict(Y_test)"
   ]
  },
  {
   "cell_type": "code",
   "execution_count": 16,
   "id": "b9d82e27-47c4-470f-9f7b-948c0e3ea522",
   "metadata": {},
   "outputs": [
    {
     "data": {
      "text/plain": [
       "array([[534.93],\n",
       "       [546.18],\n",
       "       [540.56],\n",
       "       [523.  ],\n",
       "       [540.56],\n",
       "       [529.31],\n",
       "       [523.  ],\n",
       "       [529.  ],\n",
       "       [529.31],\n",
       "       [506.82],\n",
       "       [506.8 ],\n",
       "       [529.  ],\n",
       "       [534.93],\n",
       "       [557.42],\n",
       "       [529.  ],\n",
       "       [546.18],\n",
       "       [534.  ],\n",
       "       [557.  ],\n",
       "       [540.56],\n",
       "       [540.56],\n",
       "       [529.31],\n",
       "       [563.05],\n",
       "       [518.  ],\n",
       "       [563.05],\n",
       "       [568.67],\n",
       "       [585.54],\n",
       "       [574.  ],\n",
       "       [529.31],\n",
       "       [546.18],\n",
       "       [568.67],\n",
       "       [529.31],\n",
       "       [507.  ],\n",
       "       [529.31],\n",
       "       [512.  ],\n",
       "       [540.56],\n",
       "       [529.  ],\n",
       "       [546.18],\n",
       "       [563.05],\n",
       "       [574.29],\n",
       "       [534.93],\n",
       "       [529.31],\n",
       "       [540.  ],\n",
       "       [529.31],\n",
       "       [540.56],\n",
       "       [563.05]])"
      ]
     },
     "execution_count": 16,
     "metadata": {},
     "output_type": "execute_result"
    }
   ],
   "source": [
    "Y_test"
   ]
  },
  {
   "cell_type": "code",
   "execution_count": 17,
   "id": "b935b884-40f1-483b-9fc6-9b6ced35b10b",
   "metadata": {},
   "outputs": [],
   "source": [
    "from sklearn.metrics import mean_squared_error"
   ]
  },
  {
   "cell_type": "code",
   "execution_count": 18,
   "id": "92b9f051-69b2-406f-9003-ccac85515727",
   "metadata": {},
   "outputs": [],
   "source": [
    "mse = mean_squared_error(Y_test,test_prediction)"
   ]
  },
  {
   "cell_type": "code",
   "execution_count": 19,
   "id": "a6a0dd82-e7b4-4ba4-a670-13273b5a99ee",
   "metadata": {},
   "outputs": [
    {
     "data": {
      "text/plain": [
       "568.4208043382863"
      ]
     },
     "execution_count": 19,
     "metadata": {},
     "output_type": "execute_result"
    }
   ],
   "source": [
    "mse"
   ]
  },
  {
   "cell_type": "code",
   "execution_count": 20,
   "id": "8855b6f1-1a39-4fff-8957-5275a39fc3c7",
   "metadata": {},
   "outputs": [],
   "source": [
    "rmse = np.sqrt(mse)"
   ]
  },
  {
   "cell_type": "code",
   "execution_count": 21,
   "id": "f33cf957-f07a-45bb-ac54-d29ffaebcfb4",
   "metadata": {},
   "outputs": [
    {
     "data": {
      "text/plain": [
       "23.8415772200223"
      ]
     },
     "execution_count": 21,
     "metadata": {},
     "output_type": "execute_result"
    }
   ],
   "source": [
    "rmse"
   ]
  },
  {
   "cell_type": "code",
   "execution_count": 22,
   "id": "8c8e6fb9-0836-4d48-9f32-e26b34bc1588",
   "metadata": {},
   "outputs": [
    {
     "data": {
      "text/plain": [
       "array([[555.62487787],\n",
       "       [556.22161957],\n",
       "       [555.92351394],\n",
       "       [554.99206644],\n",
       "       [555.92351394],\n",
       "       [555.32677223],\n",
       "       [554.99206644],\n",
       "       [555.31032869],\n",
       "       [555.32677223],\n",
       "       [554.13381926],\n",
       "       [554.13275839],\n",
       "       [555.31032869],\n",
       "       [555.62487787],\n",
       "       [556.81783084],\n",
       "       [555.31032869],\n",
       "       [556.22161957],\n",
       "       [555.57554722],\n",
       "       [556.79555248],\n",
       "       [555.92351394],\n",
       "       [555.92351394],\n",
       "       [555.32677223],\n",
       "       [557.11646691],\n",
       "       [554.72684791],\n",
       "       [557.11646691],\n",
       "       [557.41457254],\n",
       "       [558.30941988],\n",
       "       [557.6972955 ],\n",
       "       [555.32677223],\n",
       "       [556.22161957],\n",
       "       [557.41457254],\n",
       "       [555.32677223],\n",
       "       [554.14336713],\n",
       "       [555.32677223],\n",
       "       [554.40858567],\n",
       "       [555.92351394],\n",
       "       [555.31032869],\n",
       "       [556.22161957],\n",
       "       [557.11646691],\n",
       "       [557.71267818],\n",
       "       [555.62487787],\n",
       "       [555.32677223],\n",
       "       [555.89380946],\n",
       "       [555.32677223],\n",
       "       [555.92351394],\n",
       "       [557.11646691]])"
      ]
     },
     "execution_count": 22,
     "metadata": {},
     "output_type": "execute_result"
    }
   ],
   "source": [
    "test_prediction"
   ]
  },
  {
   "cell_type": "code",
   "execution_count": 23,
   "id": "af81bd1c-a854-43b7-9b81-9eb2b2023dc9",
   "metadata": {},
   "outputs": [],
   "source": [
    "residual = Y_test - test_prediction"
   ]
  },
  {
   "cell_type": "code",
   "execution_count": 24,
   "id": "11e5f46c-4833-4e58-bdd4-9cbc5053ee12",
   "metadata": {},
   "outputs": [
    {
     "data": {
      "text/plain": [
       "array([[-20.69487787],\n",
       "       [-10.04161957],\n",
       "       [-15.36351394],\n",
       "       [-31.99206644],\n",
       "       [-15.36351394],\n",
       "       [-26.01677223],\n",
       "       [-31.99206644],\n",
       "       [-26.31032869],\n",
       "       [-26.01677223],\n",
       "       [-47.31381926],\n",
       "       [-47.33275839],\n",
       "       [-26.31032869],\n",
       "       [-20.69487787],\n",
       "       [  0.60216916],\n",
       "       [-26.31032869],\n",
       "       [-10.04161957],\n",
       "       [-21.57554722],\n",
       "       [  0.20444752],\n",
       "       [-15.36351394],\n",
       "       [-15.36351394],\n",
       "       [-26.01677223],\n",
       "       [  5.93353309],\n",
       "       [-36.72684791],\n",
       "       [  5.93353309],\n",
       "       [ 11.25542746],\n",
       "       [ 27.23058012],\n",
       "       [ 16.3027045 ],\n",
       "       [-26.01677223],\n",
       "       [-10.04161957],\n",
       "       [ 11.25542746],\n",
       "       [-26.01677223],\n",
       "       [-47.14336713],\n",
       "       [-26.01677223],\n",
       "       [-42.40858567],\n",
       "       [-15.36351394],\n",
       "       [-26.31032869],\n",
       "       [-10.04161957],\n",
       "       [  5.93353309],\n",
       "       [ 16.57732182],\n",
       "       [-20.69487787],\n",
       "       [-26.01677223],\n",
       "       [-15.89380946],\n",
       "       [-26.01677223],\n",
       "       [-15.36351394],\n",
       "       [  5.93353309]])"
      ]
     },
     "execution_count": 24,
     "metadata": {},
     "output_type": "execute_result"
    }
   ],
   "source": [
    "residual"
   ]
  },
  {
   "cell_type": "code",
   "execution_count": 25,
   "id": "b2f468c2-0b7d-4ad3-b969-0b3f4bc7b6a8",
   "metadata": {},
   "outputs": [
    {
     "name": "stderr",
     "output_type": "stream",
     "text": [
      "C:\\Users\\abhis\\anaconda3\\Lib\\site-packages\\seaborn\\_oldcore.py:1119: FutureWarning: use_inf_as_na option is deprecated and will be removed in a future version. Convert inf values to NaN before operating instead.\n",
      "  with pd.option_context('mode.use_inf_as_na', True):\n",
      "C:\\Users\\abhis\\anaconda3\\Lib\\site-packages\\seaborn\\_oldcore.py:1075: FutureWarning: When grouping with a length-1 list-like, you will need to pass a length-1 tuple to get_group in a future version of pandas. Pass `(name,)` instead of `name` to silence this warning.\n",
      "  data_subset = grouped_data.get_group(pd_key)\n"
     ]
    },
    {
     "data": {
      "text/plain": [
       "<Axes: ylabel='Density'>"
      ]
     },
     "execution_count": 25,
     "metadata": {},
     "output_type": "execute_result"
    },
    {
     "data": {
      "image/png": "[encoded data removed]",
      "text/plain": [
       "<Figure size 640x480 with 1 Axes>"
      ]
     },
     "metadata": {},
     "output_type": "display_data"
    }
   ],
   "source": [
    "sns.kdeplot(residual)"
   ]
  },
  {
   "cell_type": "markdown",
   "id": "994f50ed-6e45-4765-b5c8-727f6c4b4a3c",
   "metadata": {},
   "source": [
    "# LINEAR REGRESSION PART"
   ]
  },
  {
   "cell_type": "code",
   "execution_count": 26,
   "id": "a757befe-c3d1-48a5-80e3-9e2a64c8895d",
   "metadata": {},
   "outputs": [],
   "source": [
    "LinearRegression_project_model = LinearRegression()"
   ]
  },
  {
   "cell_type": "code",
   "execution_count": 27,
   "id": "bcc2c820-9af2-4ff7-9b1e-189f4d65f74d",
   "metadata": {},
   "outputs": [
    {
     "data": {
      "text/html": [
       "<style>#sk-container-id-2 {color: black;background-color: white;}#sk-container-id-2 pre{padding: 0;}#sk-container-id-2 div.sk-toggleable {background-color: white;}#sk-container-id-2 label.sk-toggleable__label {cursor: pointer;display: block;width: 100%;margin-bottom: 0;padding: 0.3em;box-sizing: border-box;text-align: center;}#sk-container-id-2 label.sk-toggleable__label-arrow:before {content: \"▸\";float: left;margin-right: 0.25em;color: #696969;}#sk-container-id-2 label.sk-toggleable__label-arrow:hover:before {color: black;}#sk-container-id-2 div.sk-estimator:hover label.sk-toggleable__label-arrow:before {color: black;}#sk-container-id-2 div.sk-toggleable__content {max-height: 0;max-width: 0;overflow: hidden;text-align: left;background-color: #f0f8ff;}#sk-container-id-2 div.sk-toggleable__content pre {margin: 0.2em;color: black;border-radius: 0.25em;background-color: #f0f8ff;}#sk-container-id-2 input.sk-toggleable__control:checked~div.sk-toggleable__content {max-height: 200px;max-width: 100%;overflow: auto;}#sk-container-id-2 input.sk-toggleable__control:checked~label.sk-toggleable__label-arrow:before {content: \"▾\";}#sk-container-id-2 div.sk-estimator input.sk-toggleable__control:checked~label.sk-toggleable__label {background-color: #d4ebff;}#sk-container-id-2 div.sk-label input.sk-toggleable__control:checked~label.sk-toggleable__label {background-color: #d4ebff;}#sk-container-id-2 input.sk-hidden--visually {border: 0;clip: rect(1px 1px 1px 1px);clip: rect(1px, 1px, 1px, 1px);height: 1px;margin: -1px;overflow: hidden;padding: 0;position: absolute;width: 1px;}#sk-container-id-2 div.sk-estimator {font-family: monospace;background-color: #f0f8ff;border: 1px dotted black;border-radius: 0.25em;box-sizing: border-box;margin-bottom: 0.5em;}#sk-container-id-2 div.sk-estimator:hover {background-color: #d4ebff;}#sk-container-id-2 div.sk-parallel-item::after {content: \"\";width: 100%;border-bottom: 1px solid gray;flex-grow: 1;}#sk-container-id-2 div.sk-label:hover label.sk-toggleable__label {background-color: #d4ebff;}#sk-container-id-2 div.sk-serial::before {content: \"\";position: absolute;border-left: 1px solid gray;box-sizing: border-box;top: 0;bottom: 0;left: 50%;z-index: 0;}#sk-container-id-2 div.sk-serial {display: flex;flex-direction: column;align-items: center;background-color: white;padding-right: 0.2em;padding-left: 0.2em;position: relative;}#sk-container-id-2 div.sk-item {position: relative;z-index: 1;}#sk-container-id-2 div.sk-parallel {display: flex;align-items: stretch;justify-content: center;background-color: white;position: relative;}#sk-container-id-2 div.sk-item::before, #sk-container-id-2 div.sk-parallel-item::before {content: \"\";position: absolute;border-left: 1px solid gray;box-sizing: border-box;top: 0;bottom: 0;left: 50%;z-index: -1;}#sk-container-id-2 div.sk-parallel-item {display: flex;flex-direction: column;z-index: 1;position: relative;background-color: white;}#sk-container-id-2 div.sk-parallel-item:first-child::after {align-self: flex-end;width: 50%;}#sk-container-id-2 div.sk-parallel-item:last-child::after {align-self: flex-start;width: 50%;}#sk-container-id-2 div.sk-parallel-item:only-child::after {width: 0;}#sk-container-id-2 div.sk-dashed-wrapped {border: 1px dashed gray;margin: 0 0.4em 0.5em 0.4em;box-sizing: border-box;padding-bottom: 0.4em;background-color: white;}#sk-container-id-2 div.sk-label label {font-family: monospace;font-weight: bold;display: inline-block;line-height: 1.2em;}#sk-container-id-2 div.sk-label-container {text-align: center;}#sk-container-id-2 div.sk-container {/* jupyter's `normalize.less` sets `[hidden] { display: none; }` but bootstrap.min.css set `[hidden] { display: none !important; }` so we also need the `!important` here to be able to override the default hidden behavior on the sphinx rendered scikit-learn.org. See: https://github.com/scikit-learn/scikit-learn/issues/21755 */display: inline-block !important;position: relative;}#sk-container-id-2 div.sk-text-repr-fallback {display: none;}</style><div id=\"sk-container-id-2\" class=\"sk-top-container\"><div class=\"sk-text-repr-fallback\"><pre>LinearRegression()</pre><b>In a Jupyter environment, please rerun this cell to show the HTML representation or trust the notebook. <br />On GitHub, the HTML representation is unable to render, please try loading this page with nbviewer.org.</b></div><div class=\"sk-container\" hidden><div class=\"sk-item\"><div class=\"sk-estimator sk-toggleable\"><input class=\"sk-toggleable__control sk-hidden--visually\" id=\"sk-estimator-id-2\" type=\"checkbox\" checked><label for=\"sk-estimator-id-2\" class=\"sk-toggleable__label sk-toggleable__label-arrow\">LinearRegression</label><div class=\"sk-toggleable__content\"><pre>LinearRegression()</pre></div></div></div></div></div>"
      ],
      "text/plain": [
       "LinearRegression()"
      ]
     },
     "execution_count": 27,
     "metadata": {},
     "output_type": "execute_result"
    }
   ],
   "source": [
    "LinearRegression_project_model.fit(X,y)"
   ]
  },
  {
   "cell_type": "code",
   "execution_count": 28,
   "id": "67dab75d-6789-40d3-9db3-231e56f4daa6",
   "metadata": {},
   "outputs": [],
   "source": [
    "from joblib import dump,load"
   ]
  },
  {
   "cell_type": "code",
   "execution_count": 29,
   "id": "2ba08219-4851-4219-9496-2eddfa73bf58",
   "metadata": {},
   "outputs": [
    {
     "data": {
      "text/plain": [
       "['LinearRegression_project_model.joblib']"
      ]
     },
     "execution_count": 29,
     "metadata": {},
     "output_type": "execute_result"
    }
   ],
   "source": [
    "dump(LinearRegression_project_model,'LinearRegression_project_model.joblib')"
   ]
  },
  {
   "cell_type": "code",
   "execution_count": 30,
   "id": "ca500310-0f82-48ef-b2f8-fc735a6ad67f",
   "metadata": {},
   "outputs": [],
   "source": [
    "loaded_model = load('LinearRegression_project_model.joblib')"
   ]
  },
  {
   "cell_type": "code",
   "execution_count": 31,
   "id": "6551d6c7-5a7f-4334-bc12-c07050f68553",
   "metadata": {},
   "outputs": [],
   "source": [
    "assumption = [[20]]\n",
    "assumption = np.array(assumption).reshape(-1, 1)"
   ]
  },
  {
   "cell_type": "code",
   "execution_count": 32,
   "id": "1358294c-abea-4138-b2e1-2d42c575fff1",
   "metadata": {},
   "outputs": [
    {
     "data": {
      "text/plain": [
       "array([[527.95755455]])"
      ]
     },
     "execution_count": 32,
     "metadata": {},
     "output_type": "execute_result"
    }
   ],
   "source": [
    "loaded_model.predict(assumption)"
   ]
  },
  {
   "cell_type": "markdown",
   "id": "1156128a-4591-4d28-8b3c-ae5f4f6050ae",
   "metadata": {},
   "source": [
    "# POLYNOMIAL REGRESSION PART"
   ]
  },
  {
   "cell_type": "code",
   "execution_count": 33,
   "id": "73e401e8-7d3d-406d-9d8e-dcd3795e35cd",
   "metadata": {},
   "outputs": [],
   "source": [
    "from sklearn.preprocessing import PolynomialFeatures"
   ]
  },
  {
   "cell_type": "code",
   "execution_count": 34,
   "id": "11fded87-4479-42ad-8040-a69e7eb00b93",
   "metadata": {},
   "outputs": [],
   "source": [
    "converter = PolynomialFeatures(degree=2, include_bias=False)"
   ]
  },
  {
   "cell_type": "code",
   "execution_count": 35,
   "id": "42a8eb86-a696-4b89-9fac-260a361ecbc8",
   "metadata": {},
   "outputs": [
    {
     "data": {
      "text/html": [
       "<style>#sk-container-id-3 {color: black;background-color: white;}#sk-container-id-3 pre{padding: 0;}#sk-container-id-3 div.sk-toggleable {background-color: white;}#sk-container-id-3 label.sk-toggleable__label {cursor: pointer;display: block;width: 100%;margin-bottom: 0;padding: 0.3em;box-sizing: border-box;text-align: center;}#sk-container-id-3 label.sk-toggleable__label-arrow:before {content: \"▸\";float: left;margin-right: 0.25em;color: #696969;}#sk-container-id-3 label.sk-toggleable__label-arrow:hover:before {color: black;}#sk-container-id-3 div.sk-estimator:hover label.sk-toggleable__label-arrow:before {color: black;}#sk-container-id-3 div.sk-toggleable__content {max-height: 0;max-width: 0;overflow: hidden;text-align: left;background-color: #f0f8ff;}#sk-container-id-3 div.sk-toggleable__content pre {margin: 0.2em;color: black;border-radius: 0.25em;background-color: #f0f8ff;}#sk-container-id-3 input.sk-toggleable__control:checked~div.sk-toggleable__content {max-height: 200px;max-width: 100%;overflow: auto;}#sk-container-id-3 input.sk-toggleable__control:checked~label.sk-toggleable__label-arrow:before {content: \"▾\";}#sk-container-id-3 div.sk-estimator input.sk-toggleable__control:checked~label.sk-toggleable__label {background-color: #d4ebff;}#sk-container-id-3 div.sk-label input.sk-toggleable__control:checked~label.sk-toggleable__label {background-color: #d4ebff;}#sk-container-id-3 input.sk-hidden--visually {border: 0;clip: rect(1px 1px 1px 1px);clip: rect(1px, 1px, 1px, 1px);height: 1px;margin: -1px;overflow: hidden;padding: 0;position: absolute;width: 1px;}#sk-container-id-3 div.sk-estimator {font-family: monospace;background-color: #f0f8ff;border: 1px dotted black;border-radius: 0.25em;box-sizing: border-box;margin-bottom: 0.5em;}#sk-container-id-3 div.sk-estimator:hover {background-color: #d4ebff;}#sk-container-id-3 div.sk-parallel-item::after {content: \"\";width: 100%;border-bottom: 1px solid gray;flex-grow: 1;}#sk-container-id-3 div.sk-label:hover label.sk-toggleable__label {background-color: #d4ebff;}#sk-container-id-3 div.sk-serial::before {content: \"\";position: absolute;border-left: 1px solid gray;box-sizing: border-box;top: 0;bottom: 0;left: 50%;z-index: 0;}#sk-container-id-3 div.sk-serial {display: flex;flex-direction: column;align-items: center;background-color: white;padding-right: 0.2em;padding-left: 0.2em;position: relative;}#sk-container-id-3 div.sk-item {position: relative;z-index: 1;}#sk-container-id-3 div.sk-parallel {display: flex;align-items: stretch;justify-content: center;background-color: white;position: relative;}#sk-container-id-3 div.sk-item::before, #sk-container-id-3 div.sk-parallel-item::before {content: \"\";position: absolute;border-left: 1px solid gray;box-sizing: border-box;top: 0;bottom: 0;left: 50%;z-index: -1;}#sk-container-id-3 div.sk-parallel-item {display: flex;flex-direction: column;z-index: 1;position: relative;background-color: white;}#sk-container-id-3 div.sk-parallel-item:first-child::after {align-self: flex-end;width: 50%;}#sk-container-id-3 div.sk-parallel-item:last-child::after {align-self: flex-start;width: 50%;}#sk-container-id-3 div.sk-parallel-item:only-child::after {width: 0;}#sk-container-id-3 div.sk-dashed-wrapped {border: 1px dashed gray;margin: 0 0.4em 0.5em 0.4em;box-sizing: border-box;padding-bottom: 0.4em;background-color: white;}#sk-container-id-3 div.sk-label label {font-family: monospace;font-weight: bold;display: inline-block;line-height: 1.2em;}#sk-container-id-3 div.sk-label-container {text-align: center;}#sk-container-id-3 div.sk-container {/* jupyter's `normalize.less` sets `[hidden] { display: none; }` but bootstrap.min.css set `[hidden] { display: none !important; }` so we also need the `!important` here to be able to override the default hidden behavior on the sphinx rendered scikit-learn.org. See: https://github.com/scikit-learn/scikit-learn/issues/21755 */display: inline-block !important;position: relative;}#sk-container-id-3 div.sk-text-repr-fallback {display: none;}</style><div id=\"sk-container-id-3\" class=\"sk-top-container\"><div class=\"sk-text-repr-fallback\"><pre>PolynomialFeatures(include_bias=False)</pre><b>In a Jupyter environment, please rerun this cell to show the HTML representation or trust the notebook. <br />On GitHub, the HTML representation is unable to render, please try loading this page with nbviewer.org.</b></div><div class=\"sk-container\" hidden><div class=\"sk-item\"><div class=\"sk-estimator sk-toggleable\"><input class=\"sk-toggleable__control sk-hidden--visually\" id=\"sk-estimator-id-3\" type=\"checkbox\" checked><label for=\"sk-estimator-id-3\" class=\"sk-toggleable__label sk-toggleable__label-arrow\">PolynomialFeatures</label><div class=\"sk-toggleable__content\"><pre>PolynomialFeatures(include_bias=False)</pre></div></div></div></div></div>"
      ],
      "text/plain": [
       "PolynomialFeatures(include_bias=False)"
      ]
     },
     "execution_count": 35,
     "metadata": {},
     "output_type": "execute_result"
    }
   ],
   "source": [
    "converter.fit(X)"
   ]
  },
  {
   "cell_type": "code",
   "execution_count": 36,
   "id": "ae8eb1d6-e533-458a-8fe5-9a15d73dee79",
   "metadata": {},
   "outputs": [],
   "source": [
    "poly = converter.transform(X)"
   ]
  },
  {
   "cell_type": "code",
   "execution_count": 37,
   "id": "0cf47dbd-0f4b-45fe-90e2-14208cd69a00",
   "metadata": {},
   "outputs": [
    {
     "data": {
      "text/plain": [
       "array([[2.00000e+01, 4.00000e+02],\n",
       "       [3.00000e+01, 9.00000e+02],\n",
       "       [4.00000e+01, 1.60000e+03],\n",
       "       [5.00000e+01, 2.50000e+03],\n",
       "       [6.00000e+01, 3.60000e+03],\n",
       "       [7.00000e+01, 4.90000e+03],\n",
       "       [8.00000e+01, 6.40000e+03],\n",
       "       [9.00000e+01, 8.10000e+03],\n",
       "       [1.00000e+02, 1.00000e+04],\n",
       "       [1.05000e+02, 1.10250e+04],\n",
       "       [1.10000e+02, 1.21000e+04],\n",
       "       [1.15000e+02, 1.32250e+04],\n",
       "       [1.20000e+02, 1.44000e+04],\n",
       "       [1.25000e+02, 1.56250e+04],\n",
       "       [1.30000e+02, 1.69000e+04],\n",
       "       [1.35000e+02, 1.82250e+04],\n",
       "       [1.40000e+02, 1.96000e+04],\n",
       "       [1.45000e+02, 2.10250e+04],\n",
       "       [1.50000e+02, 2.25000e+04],\n",
       "       [1.60000e+02, 2.56000e+04],\n",
       "       [1.70000e+02, 2.89000e+04],\n",
       "       [1.80000e+02, 3.24000e+04],\n",
       "       [1.90000e+02, 3.61000e+04],\n",
       "       [2.00000e+02, 4.00000e+04],\n",
       "       [2.05000e+02, 4.20250e+04],\n",
       "       [2.10000e+02, 4.41000e+04],\n",
       "       [2.15000e+02, 4.62250e+04],\n",
       "       [2.20000e+02, 4.84000e+04],\n",
       "       [2.25000e+02, 5.06250e+04],\n",
       "       [2.30000e+02, 5.29000e+04],\n",
       "       [2.35000e+02, 5.52250e+04],\n",
       "       [2.40000e+02, 5.76000e+04],\n",
       "       [2.45000e+02, 6.00250e+04],\n",
       "       [2.50000e+02, 6.25000e+04],\n",
       "       [2.55000e+02, 6.50250e+04],\n",
       "       [2.60000e+02, 6.76000e+04],\n",
       "       [2.65000e+02, 7.02250e+04],\n",
       "       [2.70000e+02, 7.29000e+04],\n",
       "       [2.75000e+02, 7.56250e+04],\n",
       "       [2.80000e+02, 7.84000e+04],\n",
       "       [2.85000e+02, 8.12250e+04],\n",
       "       [2.90000e+02, 8.41000e+04],\n",
       "       [2.95000e+02, 8.70250e+04],\n",
       "       [3.00000e+02, 9.00000e+04],\n",
       "       [3.05000e+02, 9.30250e+04],\n",
       "       [3.07000e+02, 9.42490e+04],\n",
       "       [3.12000e+02, 9.73440e+04],\n",
       "       [3.19000e+02, 1.01761e+05],\n",
       "       [3.23000e+02, 1.04329e+05],\n",
       "       [3.27000e+02, 1.06929e+05],\n",
       "       [2.88000e+02, 8.29440e+04],\n",
       "       [3.35000e+02, 1.12225e+05],\n",
       "       [3.41000e+02, 1.16281e+05],\n",
       "       [3.48000e+02, 1.21104e+05],\n",
       "       [3.29000e+02, 1.08241e+05],\n",
       "       [3.39000e+02, 1.14921e+05],\n",
       "       [3.69000e+02, 1.36161e+05],\n",
       "       [3.73000e+02, 1.39129e+05],\n",
       "       [3.56000e+02, 1.26736e+05],\n",
       "       [3.61000e+02, 1.30321e+05],\n",
       "       [3.11000e+02, 9.67210e+04],\n",
       "       [3.89000e+02, 1.51321e+05],\n",
       "       [3.91000e+02, 1.52881e+05],\n",
       "       [3.99000e+02, 1.59201e+05],\n",
       "       [3.84000e+02, 1.47456e+05],\n",
       "       [3.74000e+02, 1.39876e+05],\n",
       "       [3.67000e+02, 1.34689e+05],\n",
       "       [3.82000e+02, 1.45924e+05],\n",
       "       [3.90000e+02, 1.52100e+05],\n",
       "       [4.11000e+02, 1.68921e+05],\n",
       "       [4.06000e+02, 1.64836e+05],\n",
       "       [4.01000e+02, 1.60801e+05],\n",
       "       [4.16000e+02, 1.73056e+05],\n",
       "       [4.20000e+02, 1.76400e+05],\n",
       "       [4.65000e+02, 2.16225e+05],\n",
       "       [4.96000e+02, 2.46016e+05],\n",
       "       [4.86000e+02, 2.36196e+05],\n",
       "       [4.91000e+02, 2.41081e+05],\n",
       "       [4.77000e+02, 2.27529e+05],\n",
       "       [2.20000e+01, 4.84000e+02],\n",
       "       [3.30000e+01, 1.08900e+03],\n",
       "       [3.90000e+01, 1.52100e+03],\n",
       "       [5.40000e+01, 2.91600e+03],\n",
       "       [6.60000e+01, 4.35600e+03],\n",
       "       [7.90000e+01, 6.24100e+03],\n",
       "       [8.30000e+01, 6.88900e+03],\n",
       "       [8.80000e+01, 7.74400e+03],\n",
       "       [1.01000e+02, 1.02010e+04],\n",
       "       [1.03000e+02, 1.06090e+04],\n",
       "       [1.12000e+02, 1.25440e+04],\n",
       "       [1.19000e+02, 1.41610e+04],\n",
       "       [1.23000e+02, 1.51290e+04],\n",
       "       [1.29000e+02, 1.66410e+04],\n",
       "       [1.33000e+02, 1.76890e+04],\n",
       "       [1.37000e+02, 1.87690e+04],\n",
       "       [1.44000e+02, 2.07360e+04],\n",
       "       [1.54000e+02, 2.37160e+04],\n",
       "       [1.49000e+02, 2.22010e+04],\n",
       "       [1.58000e+02, 2.49640e+04],\n",
       "       [1.65000e+02, 2.72250e+04],\n",
       "       [1.78000e+02, 3.16840e+04],\n",
       "       [1.82000e+02, 3.31240e+04],\n",
       "       [1.97000e+02, 3.88090e+04],\n",
       "       [2.03000e+02, 4.12090e+04],\n",
       "       [2.11000e+02, 4.45210e+04],\n",
       "       [2.14000e+02, 4.57960e+04],\n",
       "       [2.19000e+02, 4.79610e+04],\n",
       "       [2.22000e+02, 4.92840e+04],\n",
       "       [2.28000e+02, 5.19840e+04],\n",
       "       [2.31000e+02, 5.33610e+04],\n",
       "       [2.42000e+02, 5.85640e+04],\n",
       "       [2.44000e+02, 5.95360e+04],\n",
       "       [2.49000e+02, 6.20010e+04],\n",
       "       [2.54000e+02, 6.45160e+04],\n",
       "       [2.59000e+02, 6.70810e+04],\n",
       "       [2.67000e+02, 7.12890e+04],\n",
       "       [2.77000e+02, 7.67290e+04],\n",
       "       [2.79000e+02, 7.78410e+04],\n",
       "       [2.82000e+02, 7.95240e+04],\n",
       "       [2.86000e+02, 8.17960e+04],\n",
       "       [2.99000e+02, 8.94010e+04],\n",
       "       [2.91000e+02, 8.46810e+04],\n",
       "       [3.01000e+02, 9.06010e+04],\n",
       "       [3.02000e+02, 9.12040e+04],\n",
       "       [3.09000e+02, 9.54810e+04],\n",
       "       [3.11000e+02, 9.67210e+04],\n",
       "       [3.17000e+02, 1.00489e+05],\n",
       "       [3.21000e+02, 1.03041e+05],\n",
       "       [3.22000e+02, 1.03684e+05],\n",
       "       [2.81000e+02, 7.89610e+04],\n",
       "       [3.27000e+02, 1.06929e+05],\n",
       "       [3.41000e+02, 1.16281e+05],\n",
       "       [3.46000e+02, 1.19716e+05],\n",
       "       [3.23000e+02, 1.04329e+05],\n",
       "       [3.31000e+02, 1.09561e+05],\n",
       "       [3.66000e+02, 1.33956e+05],\n",
       "       [3.71000e+02, 1.37641e+05],\n",
       "       [3.68000e+02, 1.35424e+05],\n",
       "       [3.60000e+02, 1.29600e+05],\n",
       "       [3.12000e+02, 9.73440e+04],\n",
       "       [3.77000e+02, 1.42129e+05],\n",
       "       [3.90000e+02, 1.52100e+05],\n",
       "       [3.96000e+02, 1.56816e+05],\n",
       "       [3.83000e+02, 1.46689e+05],\n",
       "       [3.75000e+02, 1.40625e+05],\n",
       "       [3.66000e+02, 1.33956e+05],\n",
       "       [3.82000e+02, 1.45924e+05],\n",
       "       [3.90000e+02, 1.52100e+05],\n",
       "       [4.11000e+02, 1.68921e+05]])"
      ]
     },
     "execution_count": 37,
     "metadata": {},
     "output_type": "execute_result"
    }
   ],
   "source": [
    "poly"
   ]
  },
  {
   "cell_type": "code",
   "execution_count": 38,
   "id": "cd011c23-f5ff-4c9d-b5e9-a2aa49480f83",
   "metadata": {},
   "outputs": [
    {
     "data": {
      "text/plain": [
       "(149, 2)"
      ]
     },
     "execution_count": 38,
     "metadata": {},
     "output_type": "execute_result"
    }
   ],
   "source": [
    "poly.shape"
   ]
  },
  {
   "cell_type": "code",
   "execution_count": 39,
   "id": "7d6c8c6f-4909-4712-b2a5-83c426cb0c75",
   "metadata": {},
   "outputs": [],
   "source": [
    "from sklearn.model_selection import train_test_split\n",
    "X_train,X_test,Y_train,Y_test = train_test_split(X,y,test_size=0.3, random_state=101)"
   ]
  },
  {
   "cell_type": "code",
   "execution_count": 40,
   "id": "5eb965df-d74b-432b-8908-0291ddb402d8",
   "metadata": {},
   "outputs": [],
   "source": [
    "new_model = LinearRegression()"
   ]
  },
  {
   "cell_type": "code",
   "execution_count": 41,
   "id": "81ec61f2-ba33-4ecc-9741-025d32eb423a",
   "metadata": {},
   "outputs": [
    {
     "data": {
      "text/html": [
       "<style>#sk-container-id-4 {color: black;background-color: white;}#sk-container-id-4 pre{padding: 0;}#sk-container-id-4 div.sk-toggleable {background-color: white;}#sk-container-id-4 label.sk-toggleable__label {cursor: pointer;display: block;width: 100%;margin-bottom: 0;padding: 0.3em;box-sizing: border-box;text-align: center;}#sk-container-id-4 label.sk-toggleable__label-arrow:before {content: \"▸\";float: left;margin-right: 0.25em;color: #696969;}#sk-container-id-4 label.sk-toggleable__label-arrow:hover:before {color: black;}#sk-container-id-4 div.sk-estimator:hover label.sk-toggleable__label-arrow:before {color: black;}#sk-container-id-4 div.sk-toggleable__content {max-height: 0;max-width: 0;overflow: hidden;text-align: left;background-color: #f0f8ff;}#sk-container-id-4 div.sk-toggleable__content pre {margin: 0.2em;color: black;border-radius: 0.25em;background-color: #f0f8ff;}#sk-container-id-4 input.sk-toggleable__control:checked~div.sk-toggleable__content {max-height: 200px;max-width: 100%;overflow: auto;}#sk-container-id-4 input.sk-toggleable__control:checked~label.sk-toggleable__label-arrow:before {content: \"▾\";}#sk-container-id-4 div.sk-estimator input.sk-toggleable__control:checked~label.sk-toggleable__label {background-color: #d4ebff;}#sk-container-id-4 div.sk-label input.sk-toggleable__control:checked~label.sk-toggleable__label {background-color: #d4ebff;}#sk-container-id-4 input.sk-hidden--visually {border: 0;clip: rect(1px 1px 1px 1px);clip: rect(1px, 1px, 1px, 1px);height: 1px;margin: -1px;overflow: hidden;padding: 0;position: absolute;width: 1px;}#sk-container-id-4 div.sk-estimator {font-family: monospace;background-color: #f0f8ff;border: 1px dotted black;border-radius: 0.25em;box-sizing: border-box;margin-bottom: 0.5em;}#sk-container-id-4 div.sk-estimator:hover {background-color: #d4ebff;}#sk-container-id-4 div.sk-parallel-item::after {content: \"\";width: 100%;border-bottom: 1px solid gray;flex-grow: 1;}#sk-container-id-4 div.sk-label:hover label.sk-toggleable__label {background-color: #d4ebff;}#sk-container-id-4 div.sk-serial::before {content: \"\";position: absolute;border-left: 1px solid gray;box-sizing: border-box;top: 0;bottom: 0;left: 50%;z-index: 0;}#sk-container-id-4 div.sk-serial {display: flex;flex-direction: column;align-items: center;background-color: white;padding-right: 0.2em;padding-left: 0.2em;position: relative;}#sk-container-id-4 div.sk-item {position: relative;z-index: 1;}#sk-container-id-4 div.sk-parallel {display: flex;align-items: stretch;justify-content: center;background-color: white;position: relative;}#sk-container-id-4 div.sk-item::before, #sk-container-id-4 div.sk-parallel-item::before {content: \"\";position: absolute;border-left: 1px solid gray;box-sizing: border-box;top: 0;bottom: 0;left: 50%;z-index: -1;}#sk-container-id-4 div.sk-parallel-item {display: flex;flex-direction: column;z-index: 1;position: relative;background-color: white;}#sk-container-id-4 div.sk-parallel-item:first-child::after {align-self: flex-end;width: 50%;}#sk-container-id-4 div.sk-parallel-item:last-child::after {align-self: flex-start;width: 50%;}#sk-container-id-4 div.sk-parallel-item:only-child::after {width: 0;}#sk-container-id-4 div.sk-dashed-wrapped {border: 1px dashed gray;margin: 0 0.4em 0.5em 0.4em;box-sizing: border-box;padding-bottom: 0.4em;background-color: white;}#sk-container-id-4 div.sk-label label {font-family: monospace;font-weight: bold;display: inline-block;line-height: 1.2em;}#sk-container-id-4 div.sk-label-container {text-align: center;}#sk-container-id-4 div.sk-container {/* jupyter's `normalize.less` sets `[hidden] { display: none; }` but bootstrap.min.css set `[hidden] { display: none !important; }` so we also need the `!important` here to be able to override the default hidden behavior on the sphinx rendered scikit-learn.org. See: https://github.com/scikit-learn/scikit-learn/issues/21755 */display: inline-block !important;position: relative;}#sk-container-id-4 div.sk-text-repr-fallback {display: none;}</style><div id=\"sk-container-id-4\" class=\"sk-top-container\"><div class=\"sk-text-repr-fallback\"><pre>LinearRegression()</pre><b>In a Jupyter environment, please rerun this cell to show the HTML representation or trust the notebook. <br />On GitHub, the HTML representation is unable to render, please try loading this page with nbviewer.org.</b></div><div class=\"sk-container\" hidden><div class=\"sk-item\"><div class=\"sk-estimator sk-toggleable\"><input class=\"sk-toggleable__control sk-hidden--visually\" id=\"sk-estimator-id-4\" type=\"checkbox\" checked><label for=\"sk-estimator-id-4\" class=\"sk-toggleable__label sk-toggleable__label-arrow\">LinearRegression</label><div class=\"sk-toggleable__content\"><pre>LinearRegression()</pre></div></div></div></div></div>"
      ],
      "text/plain": [
       "LinearRegression()"
      ]
     },
     "execution_count": 41,
     "metadata": {},
     "output_type": "execute_result"
    }
   ],
   "source": [
    "new_model.fit(X_train,Y_train)"
   ]
  },
  {
   "cell_type": "code",
   "execution_count": 42,
   "id": "2a78f46d-90f3-4b39-87e3-440503f44289",
   "metadata": {},
   "outputs": [],
   "source": [
    "new_prediction = new_model.predict(X_test)"
   ]
  },
  {
   "cell_type": "code",
   "execution_count": 43,
   "id": "8fa6ffcb-9c9a-4ed0-9953-93a75bd5d721",
   "metadata": {},
   "outputs": [
    {
     "data": {
      "text/plain": [
       "array([[534.67632665],\n",
       "       [545.23202435],\n",
       "       [543.64071314],\n",
       "       [533.19110285],\n",
       "       [540.24591589],\n",
       "       [534.09284587],\n",
       "       [533.77458363],\n",
       "       [542.20853305],\n",
       "       [549.05117126],\n",
       "       [528.84151888],\n",
       "       [529.00065   ],\n",
       "       [547.51290375],\n",
       "       [539.98069735],\n",
       "       [536.90416235],\n",
       "       [534.51719553],\n",
       "       [544.38332504],\n",
       "       [543.11027607],\n",
       "       [536.69198752],\n",
       "       [551.91553144],\n",
       "       [540.51113442],\n",
       "       [547.61899117],\n",
       "       [542.63288271],\n",
       "       [532.71370949],\n",
       "       [542.89810124],\n",
       "       [543.16331978],\n",
       "       [538.38938614],\n",
       "       [537.69981795],\n",
       "       [547.0885541 ],\n",
       "       [544.33028133],\n",
       "       [546.66420444],\n",
       "       [547.51290375],\n",
       "       [530.11456785],\n",
       "       [547.8842097 ],\n",
       "       [531.65283535],\n",
       "       [544.38332504],\n",
       "       [534.3050207 ],\n",
       "       [544.80767469],\n",
       "       [536.79807493],\n",
       "       [537.328512  ],\n",
       "       [539.45026028],\n",
       "       [542.52679529],\n",
       "       [535.41893855],\n",
       "       [533.88067105],\n",
       "       [543.74680055],\n",
       "       [546.71724815]])"
      ]
     },
     "execution_count": 43,
     "metadata": {},
     "output_type": "execute_result"
    }
   ],
   "source": [
    "new_prediction"
   ]
  },
  {
   "cell_type": "code",
   "execution_count": 44,
   "id": "c8b3a6d9-8816-4392-8d7a-374d483c0e7f",
   "metadata": {},
   "outputs": [],
   "source": [
    "new_mse = mean_squared_error(Y_test, new_prediction)"
   ]
  },
  {
   "cell_type": "code",
   "execution_count": 45,
   "id": "85360b9a-44a8-4987-9e6d-127bf65464c1",
   "metadata": {},
   "outputs": [
    {
     "data": {
      "text/plain": [
       "307.18156679361243"
      ]
     },
     "execution_count": 45,
     "metadata": {},
     "output_type": "execute_result"
    }
   ],
   "source": [
    "new_mse"
   ]
  },
  {
   "cell_type": "code",
   "execution_count": 46,
   "id": "4655b6a3-19d2-469c-ab5c-5ce615fcdf5f",
   "metadata": {},
   "outputs": [],
   "source": [
    "new_rmse = np.sqrt(new_mse)"
   ]
  },
  {
   "cell_type": "code",
   "execution_count": 47,
   "id": "a5e17f9d-656b-469c-99b8-d629ef46ef31",
   "metadata": {},
   "outputs": [
    {
     "data": {
      "text/plain": [
       "17.526595984206757"
      ]
     },
     "execution_count": 47,
     "metadata": {},
     "output_type": "execute_result"
    }
   ],
   "source": [
    "new_rmse"
   ]
  },
  {
   "cell_type": "code",
   "execution_count": 48,
   "id": "eb51af94-d6bc-4731-b84f-52498812412d",
   "metadata": {},
   "outputs": [],
   "source": [
    "final_polynomial = LinearRegression()"
   ]
  },
  {
   "cell_type": "code",
   "execution_count": 49,
   "id": "bb993d0e-580d-43aa-bf06-ac5abe7f414f",
   "metadata": {},
   "outputs": [
    {
     "data": {
      "text/html": [
       "<style>#sk-container-id-5 {color: black;background-color: white;}#sk-container-id-5 pre{padding: 0;}#sk-container-id-5 div.sk-toggleable {background-color: white;}#sk-container-id-5 label.sk-toggleable__label {cursor: pointer;display: block;width: 100%;margin-bottom: 0;padding: 0.3em;box-sizing: border-box;text-align: center;}#sk-container-id-5 label.sk-toggleable__label-arrow:before {content: \"▸\";float: left;margin-right: 0.25em;color: #696969;}#sk-container-id-5 label.sk-toggleable__label-arrow:hover:before {color: black;}#sk-container-id-5 div.sk-estimator:hover label.sk-toggleable__label-arrow:before {color: black;}#sk-container-id-5 div.sk-toggleable__content {max-height: 0;max-width: 0;overflow: hidden;text-align: left;background-color: #f0f8ff;}#sk-container-id-5 div.sk-toggleable__content pre {margin: 0.2em;color: black;border-radius: 0.25em;background-color: #f0f8ff;}#sk-container-id-5 input.sk-toggleable__control:checked~div.sk-toggleable__content {max-height: 200px;max-width: 100%;overflow: auto;}#sk-container-id-5 input.sk-toggleable__control:checked~label.sk-toggleable__label-arrow:before {content: \"▾\";}#sk-container-id-5 div.sk-estimator input.sk-toggleable__control:checked~label.sk-toggleable__label {background-color: #d4ebff;}#sk-container-id-5 div.sk-label input.sk-toggleable__control:checked~label.sk-toggleable__label {background-color: #d4ebff;}#sk-container-id-5 input.sk-hidden--visually {border: 0;clip: rect(1px 1px 1px 1px);clip: rect(1px, 1px, 1px, 1px);height: 1px;margin: -1px;overflow: hidden;padding: 0;position: absolute;width: 1px;}#sk-container-id-5 div.sk-estimator {font-family: monospace;background-color: #f0f8ff;border: 1px dotted black;border-radius: 0.25em;box-sizing: border-box;margin-bottom: 0.5em;}#sk-container-id-5 div.sk-estimator:hover {background-color: #d4ebff;}#sk-container-id-5 div.sk-parallel-item::after {content: \"\";width: 100%;border-bottom: 1px solid gray;flex-grow: 1;}#sk-container-id-5 div.sk-label:hover label.sk-toggleable__label {background-color: #d4ebff;}#sk-container-id-5 div.sk-serial::before {content: \"\";position: absolute;border-left: 1px solid gray;box-sizing: border-box;top: 0;bottom: 0;left: 50%;z-index: 0;}#sk-container-id-5 div.sk-serial {display: flex;flex-direction: column;align-items: center;background-color: white;padding-right: 0.2em;padding-left: 0.2em;position: relative;}#sk-container-id-5 div.sk-item {position: relative;z-index: 1;}#sk-container-id-5 div.sk-parallel {display: flex;align-items: stretch;justify-content: center;background-color: white;position: relative;}#sk-container-id-5 div.sk-item::before, #sk-container-id-5 div.sk-parallel-item::before {content: \"\";position: absolute;border-left: 1px solid gray;box-sizing: border-box;top: 0;bottom: 0;left: 50%;z-index: -1;}#sk-container-id-5 div.sk-parallel-item {display: flex;flex-direction: column;z-index: 1;position: relative;background-color: white;}#sk-container-id-5 div.sk-parallel-item:first-child::after {align-self: flex-end;width: 50%;}#sk-container-id-5 div.sk-parallel-item:last-child::after {align-self: flex-start;width: 50%;}#sk-container-id-5 div.sk-parallel-item:only-child::after {width: 0;}#sk-container-id-5 div.sk-dashed-wrapped {border: 1px dashed gray;margin: 0 0.4em 0.5em 0.4em;box-sizing: border-box;padding-bottom: 0.4em;background-color: white;}#sk-container-id-5 div.sk-label label {font-family: monospace;font-weight: bold;display: inline-block;line-height: 1.2em;}#sk-container-id-5 div.sk-label-container {text-align: center;}#sk-container-id-5 div.sk-container {/* jupyter's `normalize.less` sets `[hidden] { display: none; }` but bootstrap.min.css set `[hidden] { display: none !important; }` so we also need the `!important` here to be able to override the default hidden behavior on the sphinx rendered scikit-learn.org. See: https://github.com/scikit-learn/scikit-learn/issues/21755 */display: inline-block !important;position: relative;}#sk-container-id-5 div.sk-text-repr-fallback {display: none;}</style><div id=\"sk-container-id-5\" class=\"sk-top-container\"><div class=\"sk-text-repr-fallback\"><pre>LinearRegression()</pre><b>In a Jupyter environment, please rerun this cell to show the HTML representation or trust the notebook. <br />On GitHub, the HTML representation is unable to render, please try loading this page with nbviewer.org.</b></div><div class=\"sk-container\" hidden><div class=\"sk-item\"><div class=\"sk-estimator sk-toggleable\"><input class=\"sk-toggleable__control sk-hidden--visually\" id=\"sk-estimator-id-5\" type=\"checkbox\" checked><label for=\"sk-estimator-id-5\" class=\"sk-toggleable__label sk-toggleable__label-arrow\">LinearRegression</label><div class=\"sk-toggleable__content\"><pre>LinearRegression()</pre></div></div></div></div></div>"
      ],
      "text/plain": [
       "LinearRegression()"
      ]
     },
     "execution_count": 49,
     "metadata": {},
     "output_type": "execute_result"
    }
   ],
   "source": [
    "final_polynomial.fit(poly,y) "
   ]
  },
  {
   "cell_type": "code",
   "execution_count": 50,
   "id": "b3a11628-b0e8-45a9-a468-6dff81610275",
   "metadata": {},
   "outputs": [],
   "source": [
    "from joblib import dump, load"
   ]
  },
  {
   "cell_type": "code",
   "execution_count": 51,
   "id": "0ad0cb73-ce07-4a84-9149-1bb017a2619e",
   "metadata": {},
   "outputs": [
    {
     "data": {
      "text/plain": [
       "['final_polynomial_model.joblib']"
      ]
     },
     "execution_count": 51,
     "metadata": {},
     "output_type": "execute_result"
    }
   ],
   "source": [
    "dump(final_polynomial,'final_polynomial_model.joblib')"
   ]
  },
  {
   "cell_type": "code",
   "execution_count": 52,
   "id": "a5521430-8ec0-4379-9978-2704f87ed128",
   "metadata": {},
   "outputs": [],
   "source": [
    "loaded_model = load('final_polynomial_model.joblib')"
   ]
  },
  {
   "cell_type": "code",
   "execution_count": 53,
   "id": "e0010d8e-2463-45f8-a36e-dbf6081060f0",
   "metadata": {},
   "outputs": [
    {
     "data": {
      "text/plain": [
       "['converter.joblib']"
      ]
     },
     "execution_count": 53,
     "metadata": {},
     "output_type": "execute_result"
    }
   ],
   "source": [
    "dump(converter,'converter.joblib')"
   ]
  },
  {
   "cell_type": "code",
   "execution_count": 54,
   "id": "47f7b62c-8ab0-45a6-8417-3d276998991d",
   "metadata": {},
   "outputs": [],
   "source": [
    "from joblib import load\n"
   ]
  },
  {
   "cell_type": "code",
   "execution_count": 55,
   "id": "3fecb9f5-4e76-4cb5-be3a-65d47861dbcb",
   "metadata": {},
   "outputs": [],
   "source": [
    "loaded_converter = load('converter.joblib')"
   ]
  },
  {
   "cell_type": "code",
   "execution_count": 56,
   "id": "a90017e6-88ae-4b33-89dc-dc2b0919759d",
   "metadata": {},
   "outputs": [],
   "source": [
    "predict = [[20]]"
   ]
  },
  {
   "cell_type": "code",
   "execution_count": 57,
   "id": "95bf06df-0ec3-42af-91be-a5fdc6f86c44",
   "metadata": {},
   "outputs": [],
   "source": [
    "transformed = loaded_converter.fit_transform(predict)"
   ]
  },
  {
   "cell_type": "code",
   "execution_count": 58,
   "id": "301071d2-f168-4495-beb2-6d6d6a5e3df4",
   "metadata": {},
   "outputs": [
    {
     "data": {
      "text/plain": [
       "array([[ 20., 400.]])"
      ]
     },
     "execution_count": 58,
     "metadata": {},
     "output_type": "execute_result"
    }
   ],
   "source": [
    "transformed"
   ]
  },
  {
   "cell_type": "code",
   "execution_count": 59,
   "id": "ecff54b2-3062-4619-bab2-a9b9d71062e0",
   "metadata": {},
   "outputs": [
    {
     "data": {
      "text/plain": [
       "array([[501.78203656]])"
      ]
     },
     "execution_count": 59,
     "metadata": {},
     "output_type": "execute_result"
    }
   ],
   "source": [
    "loaded_model.predict(transformed)"
   ]
  },
  {
   "cell_type": "code",
   "execution_count": null,
   "id": "ab0be5c0-a71f-45d9-b879-17a75e86a23a",
   "metadata": {},
   "outputs": [],
   "source": []
  }
 ],
 "metadata": {
  "kernelspec": {
   "display_name": "Python 3 (ipykernel)",
   "language": "python",
   "name": "python3"
  },
  "language_info": {
   "codemirror_mode": {
    "name": "ipython",
    "version": 3
   },
   "file_extension": ".py",
   "mimetype": "text/x-python",
   "name": "python",
   "nbconvert_exporter": "python",
   "pygments_lexer": "ipython3",
   "version": "3.11.7"
  }
 },
 "nbformat": 4,
 "nbformat_minor": 5
}
