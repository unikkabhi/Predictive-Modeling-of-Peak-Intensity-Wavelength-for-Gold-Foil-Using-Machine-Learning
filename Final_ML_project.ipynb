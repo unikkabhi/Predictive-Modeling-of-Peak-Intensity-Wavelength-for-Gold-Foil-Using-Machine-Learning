{
 "cells": [
  {
   "cell_type": "code",
   "execution_count": 131,
   "id": "a1741393-5687-4503-9560-01624bd1cb8e",
   "metadata": {},
   "outputs": [],
   "source": [
    "import numpy as np\n",
    "import pandas as pd\n",
    "import matplotlib.pyplot as plt\n",
    "import seaborn as sns\n",
    "import scipy as sp"
   ]
  },
  {
   "cell_type": "code",
   "execution_count": 132,
   "id": "e4bdc47e-15a1-4936-af42-14db8732005d",
   "metadata": {},
   "outputs": [],
   "source": [
    "df = pd.read_csv(\"data_sheet (1).csv\")"
   ]
  },
  {
   "cell_type": "code",
   "execution_count": 133,
   "id": "21cf894f-7315-4f55-a214-52a321b56fc5",
   "metadata": {},
   "outputs": [
    {
     "data": {
      "text/html": [
       "<div>\n",
       "<style scoped>\n",
       "    .dataframe tbody tr th:only-of-type {\n",
       "        vertical-align: middle;\n",
       "    }\n",
       "\n",
       "    .dataframe tbody tr th {\n",
       "        vertical-align: top;\n",
       "    }\n",
       "\n",
       "    .dataframe thead th {\n",
       "        text-align: right;\n",
       "    }\n",
       "</style>\n",
       "<table border=\"1\" class=\"dataframe\">\n",
       "  <thead>\n",
       "    <tr style=\"text-align: right;\">\n",
       "      <th></th>\n",
       "      <th>diameter</th>\n",
       "      <th>wavelength</th>\n",
       "      <th>intensity</th>\n",
       "    </tr>\n",
       "  </thead>\n",
       "  <tbody>\n",
       "    <tr>\n",
       "      <th>0</th>\n",
       "      <td>20</td>\n",
       "      <td>506.82</td>\n",
       "      <td>137.31</td>\n",
       "    </tr>\n",
       "    <tr>\n",
       "      <th>1</th>\n",
       "      <td>30</td>\n",
       "      <td>506.82</td>\n",
       "      <td>482.06</td>\n",
       "    </tr>\n",
       "    <tr>\n",
       "      <th>2</th>\n",
       "      <td>40</td>\n",
       "      <td>506.82</td>\n",
       "      <td>1199.62</td>\n",
       "    </tr>\n",
       "    <tr>\n",
       "      <th>3</th>\n",
       "      <td>50</td>\n",
       "      <td>506.82</td>\n",
       "      <td>2496.40</td>\n",
       "    </tr>\n",
       "    <tr>\n",
       "      <th>4</th>\n",
       "      <td>60</td>\n",
       "      <td>512.44</td>\n",
       "      <td>4661.90</td>\n",
       "    </tr>\n",
       "    <tr>\n",
       "      <th>...</th>\n",
       "      <td>...</td>\n",
       "      <td>...</td>\n",
       "      <td>...</td>\n",
       "    </tr>\n",
       "    <tr>\n",
       "      <th>94</th>\n",
       "      <td>481</td>\n",
       "      <td>985.00</td>\n",
       "      <td>333501.00</td>\n",
       "    </tr>\n",
       "    <tr>\n",
       "      <th>95</th>\n",
       "      <td>371</td>\n",
       "      <td>920.20</td>\n",
       "      <td>289161.00</td>\n",
       "    </tr>\n",
       "    <tr>\n",
       "      <th>96</th>\n",
       "      <td>289</td>\n",
       "      <td>749.49</td>\n",
       "      <td>205396.00</td>\n",
       "    </tr>\n",
       "    <tr>\n",
       "      <th>97</th>\n",
       "      <td>389</td>\n",
       "      <td>933.33</td>\n",
       "      <td>305022.00</td>\n",
       "    </tr>\n",
       "    <tr>\n",
       "      <th>98</th>\n",
       "      <td>489</td>\n",
       "      <td>985.85</td>\n",
       "      <td>332985.00</td>\n",
       "    </tr>\n",
       "  </tbody>\n",
       "</table>\n",
       "<p>99 rows × 3 columns</p>\n",
       "</div>"
      ],
      "text/plain": [
       "    diameter  wavelength  intensity\n",
       "0         20      506.82     137.31\n",
       "1         30      506.82     482.06\n",
       "2         40      506.82    1199.62\n",
       "3         50      506.82    2496.40\n",
       "4         60      512.44    4661.90\n",
       "..       ...         ...        ...\n",
       "94       481      985.00  333501.00\n",
       "95       371      920.20  289161.00\n",
       "96       289      749.49  205396.00\n",
       "97       389      933.33  305022.00\n",
       "98       489      985.85  332985.00\n",
       "\n",
       "[99 rows x 3 columns]"
      ]
     },
     "execution_count": 133,
     "metadata": {},
     "output_type": "execute_result"
    }
   ],
   "source": [
    "df"
   ]
  },
  {
   "cell_type": "code",
   "execution_count": 134,
   "id": "d44c5962-9ed0-401b-a8f5-7164e15ebfdb",
   "metadata": {},
   "outputs": [],
   "source": [
    "X = df['diameter']"
   ]
  },
  {
   "cell_type": "code",
   "execution_count": 135,
   "id": "5ba89a04-beb4-4ee3-a977-88f4709d6a5c",
   "metadata": {},
   "outputs": [
    {
     "data": {
      "text/plain": [
       "0      20\n",
       "1      30\n",
       "2      40\n",
       "3      50\n",
       "4      60\n",
       "     ... \n",
       "94    481\n",
       "95    371\n",
       "96    289\n",
       "97    389\n",
       "98    489\n",
       "Name: diameter, Length: 99, dtype: int64"
      ]
     },
     "execution_count": 135,
     "metadata": {},
     "output_type": "execute_result"
    }
   ],
   "source": [
    "X"
   ]
  },
  {
   "cell_type": "code",
   "execution_count": 136,
   "id": "c9d395e9-22fc-421c-8532-e4697dae9d49",
   "metadata": {},
   "outputs": [],
   "source": [
    "y = df['wavelength']"
   ]
  },
  {
   "cell_type": "code",
   "execution_count": 137,
   "id": "a0ea6585-3ebc-4521-9865-ee8d855ec47c",
   "metadata": {},
   "outputs": [
    {
     "data": {
      "text/plain": [
       "0     506.82\n",
       "1     506.82\n",
       "2     506.82\n",
       "3     506.82\n",
       "4     512.44\n",
       "       ...  \n",
       "94    985.00\n",
       "95    920.20\n",
       "96    749.49\n",
       "97    933.33\n",
       "98    985.85\n",
       "Name: wavelength, Length: 99, dtype: float64"
      ]
     },
     "execution_count": 137,
     "metadata": {},
     "output_type": "execute_result"
    }
   ],
   "source": [
    "y"
   ]
  },
  {
   "cell_type": "code",
   "execution_count": 138,
   "id": "6858c009-6ccb-4d5b-9ee9-4c893e00a5fe",
   "metadata": {},
   "outputs": [
    {
     "data": {
      "text/plain": [
       "[<matplotlib.lines.Line2D at 0x1b7e1bf0c90>]"
      ]
     },
     "execution_count": 138,
     "metadata": {},
     "output_type": "execute_result"
    },
    {
     "data": {
      "image/png": "[encoded data removed]",
      "text/plain": [
       "<Figure size 640x480 with 1 Axes>"
      ]
     },
     "metadata": {},
     "output_type": "display_data"
    }
   ],
   "source": [
    "plt.plot(X,y,'o')"
   ]
  },
  {
   "cell_type": "markdown",
   "id": "168a4f74-9490-4e12-b234-058c0eb39a9f",
   "metadata": {},
   "source": [
    "# TRAIN-TEST SPLIT "
   ]
  },
  {
   "cell_type": "code",
   "execution_count": 139,
   "id": "462d8618-e1ed-4a37-8fe6-ed7540deeb1c",
   "metadata": {},
   "outputs": [],
   "source": [
    "from sklearn.model_selection import train_test_split\n",
    "X_train,X_test,Y_train,Y_test = train_test_split(X,y,test_size=0.3, random_state=101)"
   ]
  },
  {
   "cell_type": "code",
   "execution_count": 140,
   "id": "2cfee469-f475-4250-bb56-50ebb9f5b6f3",
   "metadata": {},
   "outputs": [],
   "source": [
    "X_train = X_train.values.reshape(-1, 1)\n",
    "Y_train = Y_train.values.reshape(-1, 1)\n",
    "X_test = X_test.values.reshape(-1, 1)\n",
    "Y_test = Y_test.values.reshape(-1, 1)\n",
    "y = y.values.reshape(-1, 1)\n",
    "X = X.values.reshape(-1, 1)"
   ]
  },
  {
   "cell_type": "code",
   "execution_count": 141,
   "id": "df714d2c-2ede-49e8-8d44-219012956e5c",
   "metadata": {},
   "outputs": [
    {
     "data": {
      "text/plain": [
       "array([[200],\n",
       "       [289],\n",
       "       [215],\n",
       "       [190],\n",
       "       [489],\n",
       "       [220],\n",
       "       [170],\n",
       "       [480],\n",
       "       [ 96],\n",
       "       [117],\n",
       "       [391],\n",
       "       [312],\n",
       "       [205],\n",
       "       [420],\n",
       "       [111],\n",
       "       [163],\n",
       "       [389],\n",
       "       [145],\n",
       "       [295],\n",
       "       [189],\n",
       "       [359],\n",
       "       [406],\n",
       "       [135],\n",
       "       [255],\n",
       "       [291],\n",
       "       [ 44],\n",
       "       [150],\n",
       "       [300],\n",
       "       [393],\n",
       "       [162],\n",
       "       [ 49],\n",
       "       [ 58],\n",
       "       [ 63],\n",
       "       [ 83],\n",
       "       [260],\n",
       "       [ 90],\n",
       "       [409],\n",
       "       [225],\n",
       "       [ 32],\n",
       "       [275],\n",
       "       [430],\n",
       "       [ 20],\n",
       "       [110],\n",
       "       [160],\n",
       "       [300],\n",
       "       [201],\n",
       "       [132],\n",
       "       [211],\n",
       "       [ 84],\n",
       "       [100],\n",
       "       [144],\n",
       "       [496],\n",
       "       [120],\n",
       "       [ 70],\n",
       "       [281],\n",
       "       [250],\n",
       "       [249],\n",
       "       [481],\n",
       "       [ 60],\n",
       "       [ 31],\n",
       "       [410],\n",
       "       [105],\n",
       "       [360],\n",
       "       [267],\n",
       "       [269],\n",
       "       [459],\n",
       "       [240],\n",
       "       [115],\n",
       "       [371]], dtype=int64)"
      ]
     },
     "execution_count": 141,
     "metadata": {},
     "output_type": "execute_result"
    }
   ],
   "source": [
    "X_train"
   ]
  },
  {
   "cell_type": "code",
   "execution_count": 142,
   "id": "03f0f415-520d-4c69-a5fa-e946ff1c9dad",
   "metadata": {},
   "outputs": [],
   "source": [
    "from sklearn.linear_model import LinearRegression"
   ]
  },
  {
   "cell_type": "code",
   "execution_count": 143,
   "id": "9e5a1a9b-8612-4d79-ab27-c7d8f2dfcdf9",
   "metadata": {},
   "outputs": [],
   "source": [
    "mymodel = LinearRegression()"
   ]
  },
  {
   "cell_type": "code",
   "execution_count": 144,
   "id": "06d080c0-55e3-4875-b688-5441d3ed16bc",
   "metadata": {},
   "outputs": [
    {
     "data": {
      "text/html": [
       "<style>#sk-container-id-11 {color: black;background-color: white;}#sk-container-id-11 pre{padding: 0;}#sk-container-id-11 div.sk-toggleable {background-color: white;}#sk-container-id-11 label.sk-toggleable__label {cursor: pointer;display: block;width: 100%;margin-bottom: 0;padding: 0.3em;box-sizing: border-box;text-align: center;}#sk-container-id-11 label.sk-toggleable__label-arrow:before {content: \"▸\";float: left;margin-right: 0.25em;color: #696969;}#sk-container-id-11 label.sk-toggleable__label-arrow:hover:before {color: black;}#sk-container-id-11 div.sk-estimator:hover label.sk-toggleable__label-arrow:before {color: black;}#sk-container-id-11 div.sk-toggleable__content {max-height: 0;max-width: 0;overflow: hidden;text-align: left;background-color: #f0f8ff;}#sk-container-id-11 div.sk-toggleable__content pre {margin: 0.2em;color: black;border-radius: 0.25em;background-color: #f0f8ff;}#sk-container-id-11 input.sk-toggleable__control:checked~div.sk-toggleable__content {max-height: 200px;max-width: 100%;overflow: auto;}#sk-container-id-11 input.sk-toggleable__control:checked~label.sk-toggleable__label-arrow:before {content: \"▾\";}#sk-container-id-11 div.sk-estimator input.sk-toggleable__control:checked~label.sk-toggleable__label {background-color: #d4ebff;}#sk-container-id-11 div.sk-label input.sk-toggleable__control:checked~label.sk-toggleable__label {background-color: #d4ebff;}#sk-container-id-11 input.sk-hidden--visually {border: 0;clip: rect(1px 1px 1px 1px);clip: rect(1px, 1px, 1px, 1px);height: 1px;margin: -1px;overflow: hidden;padding: 0;position: absolute;width: 1px;}#sk-container-id-11 div.sk-estimator {font-family: monospace;background-color: #f0f8ff;border: 1px dotted black;border-radius: 0.25em;box-sizing: border-box;margin-bottom: 0.5em;}#sk-container-id-11 div.sk-estimator:hover {background-color: #d4ebff;}#sk-container-id-11 div.sk-parallel-item::after {content: \"\";width: 100%;border-bottom: 1px solid gray;flex-grow: 1;}#sk-container-id-11 div.sk-label:hover label.sk-toggleable__label {background-color: #d4ebff;}#sk-container-id-11 div.sk-serial::before {content: \"\";position: absolute;border-left: 1px solid gray;box-sizing: border-box;top: 0;bottom: 0;left: 50%;z-index: 0;}#sk-container-id-11 div.sk-serial {display: flex;flex-direction: column;align-items: center;background-color: white;padding-right: 0.2em;padding-left: 0.2em;position: relative;}#sk-container-id-11 div.sk-item {position: relative;z-index: 1;}#sk-container-id-11 div.sk-parallel {display: flex;align-items: stretch;justify-content: center;background-color: white;position: relative;}#sk-container-id-11 div.sk-item::before, #sk-container-id-11 div.sk-parallel-item::before {content: \"\";position: absolute;border-left: 1px solid gray;box-sizing: border-box;top: 0;bottom: 0;left: 50%;z-index: -1;}#sk-container-id-11 div.sk-parallel-item {display: flex;flex-direction: column;z-index: 1;position: relative;background-color: white;}#sk-container-id-11 div.sk-parallel-item:first-child::after {align-self: flex-end;width: 50%;}#sk-container-id-11 div.sk-parallel-item:last-child::after {align-self: flex-start;width: 50%;}#sk-container-id-11 div.sk-parallel-item:only-child::after {width: 0;}#sk-container-id-11 div.sk-dashed-wrapped {border: 1px dashed gray;margin: 0 0.4em 0.5em 0.4em;box-sizing: border-box;padding-bottom: 0.4em;background-color: white;}#sk-container-id-11 div.sk-label label {font-family: monospace;font-weight: bold;display: inline-block;line-height: 1.2em;}#sk-container-id-11 div.sk-label-container {text-align: center;}#sk-container-id-11 div.sk-container {/* jupyter's `normalize.less` sets `[hidden] { display: none; }` but bootstrap.min.css set `[hidden] { display: none !important; }` so we also need the `!important` here to be able to override the default hidden behavior on the sphinx rendered scikit-learn.org. See: https://github.com/scikit-learn/scikit-learn/issues/21755 */display: inline-block !important;position: relative;}#sk-container-id-11 div.sk-text-repr-fallback {display: none;}</style><div id=\"sk-container-id-11\" class=\"sk-top-container\"><div class=\"sk-text-repr-fallback\"><pre>LinearRegression()</pre><b>In a Jupyter environment, please rerun this cell to show the HTML representation or trust the notebook. <br />On GitHub, the HTML representation is unable to render, please try loading this page with nbviewer.org.</b></div><div class=\"sk-container\" hidden><div class=\"sk-item\"><div class=\"sk-estimator sk-toggleable\"><input class=\"sk-toggleable__control sk-hidden--visually\" id=\"sk-estimator-id-11\" type=\"checkbox\" checked><label for=\"sk-estimator-id-11\" class=\"sk-toggleable__label sk-toggleable__label-arrow\">LinearRegression</label><div class=\"sk-toggleable__content\"><pre>LinearRegression()</pre></div></div></div></div></div>"
      ],
      "text/plain": [
       "LinearRegression()"
      ]
     },
     "execution_count": 144,
     "metadata": {},
     "output_type": "execute_result"
    }
   ],
   "source": [
    "mymodel.fit(X_train,Y_train)"
   ]
  },
  {
   "cell_type": "code",
   "execution_count": 145,
   "id": "e5a9d443-8cd4-4120-aa3e-92b8a4570b6c",
   "metadata": {},
   "outputs": [],
   "source": [
    "test_prediction= mymodel.predict(X_test)"
   ]
  },
  {
   "cell_type": "code",
   "execution_count": 146,
   "id": "b9d82e27-47c4-470f-9f7b-948c0e3ea522",
   "metadata": {},
   "outputs": [
    {
     "data": {
      "text/plain": [
       "array([[946.46],\n",
       "       [506.  ],\n",
       "       [585.54],\n",
       "       [506.82],\n",
       "       [512.44],\n",
       "       [506.82],\n",
       "       [972.72],\n",
       "       [518.  ],\n",
       "       [518.07],\n",
       "       [828.28],\n",
       "       [512.  ],\n",
       "       [563.05],\n",
       "       [683.83],\n",
       "       [563.  ],\n",
       "       [534.93],\n",
       "       [523.7 ],\n",
       "       [506.82],\n",
       "       [546.  ],\n",
       "       [506.83],\n",
       "       [683.83],\n",
       "       [880.8 ],\n",
       "       [946.  ],\n",
       "       [506.82],\n",
       "       [529.31],\n",
       "       [563.05],\n",
       "       [506.  ],\n",
       "       [998.99],\n",
       "       [523.  ],\n",
       "       [574.  ],\n",
       "       [529.31]])"
      ]
     },
     "execution_count": 146,
     "metadata": {},
     "output_type": "execute_result"
    }
   ],
   "source": [
    "Y_test"
   ]
  },
  {
   "cell_type": "code",
   "execution_count": 147,
   "id": "b935b884-40f1-483b-9fc6-9b6ced35b10b",
   "metadata": {},
   "outputs": [],
   "source": [
    "from sklearn.metrics import mean_squared_error"
   ]
  },
  {
   "cell_type": "code",
   "execution_count": 148,
   "id": "92b9f051-69b2-406f-9003-ccac85515727",
   "metadata": {},
   "outputs": [],
   "source": [
    "mse = mean_squared_error(Y_test,test_prediction)"
   ]
  },
  {
   "cell_type": "code",
   "execution_count": 149,
   "id": "a6a0dd82-e7b4-4ba4-a670-13273b5a99ee",
   "metadata": {},
   "outputs": [
    {
     "data": {
      "text/plain": [
       "2573.7367550648246"
      ]
     },
     "execution_count": 149,
     "metadata": {},
     "output_type": "execute_result"
    }
   ],
   "source": [
    "mse"
   ]
  },
  {
   "cell_type": "code",
   "execution_count": 150,
   "id": "8855b6f1-1a39-4fff-8957-5275a39fc3c7",
   "metadata": {},
   "outputs": [],
   "source": [
    "rmse = np.sqrt(mse)"
   ]
  },
  {
   "cell_type": "code",
   "execution_count": 151,
   "id": "f33cf957-f07a-45bb-ac54-d29ffaebcfb4",
   "metadata": {},
   "outputs": [
    {
     "data": {
      "text/plain": [
       "50.73200917630628"
      ]
     },
     "execution_count": 151,
     "metadata": {},
     "output_type": "execute_result"
    }
   ],
   "source": [
    "rmse"
   ]
  },
  {
   "cell_type": "code",
   "execution_count": 152,
   "id": "8c8e6fb9-0836-4d48-9f32-e26b34bc1588",
   "metadata": {},
   "outputs": [
    {
     "data": {
      "text/plain": [
       "array([[ 894.3044835 ],\n",
       "       [ 421.12121744],\n",
       "       [ 651.9734308 ],\n",
       "       [ 422.39664403],\n",
       "       [ 486.16797369],\n",
       "       [ 433.87548337],\n",
       "       [ 909.60960262],\n",
       "       [ 511.67650555],\n",
       "       [ 509.12565237],\n",
       "       [ 805.02462198],\n",
       "       [ 468.31200139],\n",
       "       [ 613.71063301],\n",
       "       [ 711.91848068],\n",
       "       [ 618.81233938],\n",
       "       [ 562.69356928],\n",
       "       [ 535.90961082],\n",
       "       [ 447.9051759 ],\n",
       "       [ 586.92667455],\n",
       "       [ 442.80346952],\n",
       "       [ 717.02018705],\n",
       "       [ 833.08400703],\n",
       "       [ 896.85533669],\n",
       "       [ 435.15090997],\n",
       "       [ 543.56217038],\n",
       "       [ 612.43520641],\n",
       "       [ 408.36695151],\n",
       "       [1009.09287689],\n",
       "       [ 528.25705127],\n",
       "       [ 627.74032553],\n",
       "       [ 549.93930335]])"
      ]
     },
     "execution_count": 152,
     "metadata": {},
     "output_type": "execute_result"
    }
   ],
   "source": [
    "test_prediction"
   ]
  },
  {
   "cell_type": "code",
   "execution_count": 153,
   "id": "af81bd1c-a854-43b7-9b81-9eb2b2023dc9",
   "metadata": {},
   "outputs": [],
   "source": [
    "residual = Y_test - test_prediction"
   ]
  },
  {
   "cell_type": "code",
   "execution_count": 154,
   "id": "11e5f46c-4833-4e58-bdd4-9cbc5053ee12",
   "metadata": {},
   "outputs": [
    {
     "data": {
      "text/plain": [
       "array([[ 52.1555165 ],\n",
       "       [ 84.87878256],\n",
       "       [-66.4334308 ],\n",
       "       [ 84.42335597],\n",
       "       [ 26.27202631],\n",
       "       [ 72.94451663],\n",
       "       [ 63.11039738],\n",
       "       [  6.32349445],\n",
       "       [  8.94434763],\n",
       "       [ 23.25537802],\n",
       "       [ 43.68799861],\n",
       "       [-50.66063301],\n",
       "       [-28.08848068],\n",
       "       [-55.81233938],\n",
       "       [-27.76356928],\n",
       "       [-12.20961082],\n",
       "       [ 58.9148241 ],\n",
       "       [-40.92667455],\n",
       "       [ 64.02653048],\n",
       "       [-33.19018705],\n",
       "       [ 47.71599297],\n",
       "       [ 49.14466331],\n",
       "       [ 71.66909003],\n",
       "       [-14.25217038],\n",
       "       [-49.38520641],\n",
       "       [ 97.63304849],\n",
       "       [-10.10287689],\n",
       "       [ -5.25705127],\n",
       "       [-53.74032553],\n",
       "       [-20.62930335]])"
      ]
     },
     "execution_count": 154,
     "metadata": {},
     "output_type": "execute_result"
    }
   ],
   "source": [
    "residual"
   ]
  },
  {
   "cell_type": "code",
   "execution_count": 155,
   "id": "b2f468c2-0b7d-4ad3-b969-0b3f4bc7b6a8",
   "metadata": {},
   "outputs": [
    {
     "name": "stderr",
     "output_type": "stream",
     "text": [
      "C:\\Users\\abhis\\anaconda3\\Lib\\site-packages\\seaborn\\_oldcore.py:1119: FutureWarning: use_inf_as_na option is deprecated and will be removed in a future version. Convert inf values to NaN before operating instead.\n",
      "  with pd.option_context('mode.use_inf_as_na', True):\n",
      "C:\\Users\\abhis\\anaconda3\\Lib\\site-packages\\seaborn\\_oldcore.py:1075: FutureWarning: When grouping with a length-1 list-like, you will need to pass a length-1 tuple to get_group in a future version of pandas. Pass `(name,)` instead of `name` to silence this warning.\n",
      "  data_subset = grouped_data.get_group(pd_key)\n"
     ]
    },
    {
     "data": {
      "text/plain": [
       "<Axes: ylabel='Density'>"
      ]
     },
     "execution_count": 155,
     "metadata": {},
     "output_type": "execute_result"
    },
    {
     "data": {
      "image/png": "[encoded data removed]",
      "text/plain": [
       "<Figure size 640x480 with 1 Axes>"
      ]
     },
     "metadata": {},
     "output_type": "display_data"
    }
   ],
   "source": [
    "sns.kdeplot(residual)"
   ]
  },
  {
   "cell_type": "markdown",
   "id": "994f50ed-6e45-4765-b5c8-727f6c4b4a3c",
   "metadata": {},
   "source": [
    "# LINEAR REGRESSION PART"
   ]
  },
  {
   "cell_type": "code",
   "execution_count": 156,
   "id": "a757befe-c3d1-48a5-80e3-9e2a64c8895d",
   "metadata": {},
   "outputs": [],
   "source": [
    "LinearRegression_project_model = LinearRegression()"
   ]
  },
  {
   "cell_type": "code",
   "execution_count": 157,
   "id": "bcc2c820-9af2-4ff7-9b1e-189f4d65f74d",
   "metadata": {},
   "outputs": [
    {
     "data": {
      "text/html": [
       "<style>#sk-container-id-12 {color: black;background-color: white;}#sk-container-id-12 pre{padding: 0;}#sk-container-id-12 div.sk-toggleable {background-color: white;}#sk-container-id-12 label.sk-toggleable__label {cursor: pointer;display: block;width: 100%;margin-bottom: 0;padding: 0.3em;box-sizing: border-box;text-align: center;}#sk-container-id-12 label.sk-toggleable__label-arrow:before {content: \"▸\";float: left;margin-right: 0.25em;color: #696969;}#sk-container-id-12 label.sk-toggleable__label-arrow:hover:before {color: black;}#sk-container-id-12 div.sk-estimator:hover label.sk-toggleable__label-arrow:before {color: black;}#sk-container-id-12 div.sk-toggleable__content {max-height: 0;max-width: 0;overflow: hidden;text-align: left;background-color: #f0f8ff;}#sk-container-id-12 div.sk-toggleable__content pre {margin: 0.2em;color: black;border-radius: 0.25em;background-color: #f0f8ff;}#sk-container-id-12 input.sk-toggleable__control:checked~div.sk-toggleable__content {max-height: 200px;max-width: 100%;overflow: auto;}#sk-container-id-12 input.sk-toggleable__control:checked~label.sk-toggleable__label-arrow:before {content: \"▾\";}#sk-container-id-12 div.sk-estimator input.sk-toggleable__control:checked~label.sk-toggleable__label {background-color: #d4ebff;}#sk-container-id-12 div.sk-label input.sk-toggleable__control:checked~label.sk-toggleable__label {background-color: #d4ebff;}#sk-container-id-12 input.sk-hidden--visually {border: 0;clip: rect(1px 1px 1px 1px);clip: rect(1px, 1px, 1px, 1px);height: 1px;margin: -1px;overflow: hidden;padding: 0;position: absolute;width: 1px;}#sk-container-id-12 div.sk-estimator {font-family: monospace;background-color: #f0f8ff;border: 1px dotted black;border-radius: 0.25em;box-sizing: border-box;margin-bottom: 0.5em;}#sk-container-id-12 div.sk-estimator:hover {background-color: #d4ebff;}#sk-container-id-12 div.sk-parallel-item::after {content: \"\";width: 100%;border-bottom: 1px solid gray;flex-grow: 1;}#sk-container-id-12 div.sk-label:hover label.sk-toggleable__label {background-color: #d4ebff;}#sk-container-id-12 div.sk-serial::before {content: \"\";position: absolute;border-left: 1px solid gray;box-sizing: border-box;top: 0;bottom: 0;left: 50%;z-index: 0;}#sk-container-id-12 div.sk-serial {display: flex;flex-direction: column;align-items: center;background-color: white;padding-right: 0.2em;padding-left: 0.2em;position: relative;}#sk-container-id-12 div.sk-item {position: relative;z-index: 1;}#sk-container-id-12 div.sk-parallel {display: flex;align-items: stretch;justify-content: center;background-color: white;position: relative;}#sk-container-id-12 div.sk-item::before, #sk-container-id-12 div.sk-parallel-item::before {content: \"\";position: absolute;border-left: 1px solid gray;box-sizing: border-box;top: 0;bottom: 0;left: 50%;z-index: -1;}#sk-container-id-12 div.sk-parallel-item {display: flex;flex-direction: column;z-index: 1;position: relative;background-color: white;}#sk-container-id-12 div.sk-parallel-item:first-child::after {align-self: flex-end;width: 50%;}#sk-container-id-12 div.sk-parallel-item:last-child::after {align-self: flex-start;width: 50%;}#sk-container-id-12 div.sk-parallel-item:only-child::after {width: 0;}#sk-container-id-12 div.sk-dashed-wrapped {border: 1px dashed gray;margin: 0 0.4em 0.5em 0.4em;box-sizing: border-box;padding-bottom: 0.4em;background-color: white;}#sk-container-id-12 div.sk-label label {font-family: monospace;font-weight: bold;display: inline-block;line-height: 1.2em;}#sk-container-id-12 div.sk-label-container {text-align: center;}#sk-container-id-12 div.sk-container {/* jupyter's `normalize.less` sets `[hidden] { display: none; }` but bootstrap.min.css set `[hidden] { display: none !important; }` so we also need the `!important` here to be able to override the default hidden behavior on the sphinx rendered scikit-learn.org. See: https://github.com/scikit-learn/scikit-learn/issues/21755 */display: inline-block !important;position: relative;}#sk-container-id-12 div.sk-text-repr-fallback {display: none;}</style><div id=\"sk-container-id-12\" class=\"sk-top-container\"><div class=\"sk-text-repr-fallback\"><pre>LinearRegression()</pre><b>In a Jupyter environment, please rerun this cell to show the HTML representation or trust the notebook. <br />On GitHub, the HTML representation is unable to render, please try loading this page with nbviewer.org.</b></div><div class=\"sk-container\" hidden><div class=\"sk-item\"><div class=\"sk-estimator sk-toggleable\"><input class=\"sk-toggleable__control sk-hidden--visually\" id=\"sk-estimator-id-12\" type=\"checkbox\" checked><label for=\"sk-estimator-id-12\" class=\"sk-toggleable__label sk-toggleable__label-arrow\">LinearRegression</label><div class=\"sk-toggleable__content\"><pre>LinearRegression()</pre></div></div></div></div></div>"
      ],
      "text/plain": [
       "LinearRegression()"
      ]
     },
     "execution_count": 157,
     "metadata": {},
     "output_type": "execute_result"
    }
   ],
   "source": [
    "LinearRegression_project_model.fit(X,y)"
   ]
  },
  {
   "cell_type": "code",
   "execution_count": 158,
   "id": "67dab75d-6789-40d3-9db3-231e56f4daa6",
   "metadata": {},
   "outputs": [],
   "source": [
    "from joblib import dump,load"
   ]
  },
  {
   "cell_type": "code",
   "execution_count": 159,
   "id": "2ba08219-4851-4219-9496-2eddfa73bf58",
   "metadata": {},
   "outputs": [
    {
     "data": {
      "text/plain": [
       "['LinearRegression_project_model.joblib']"
      ]
     },
     "execution_count": 159,
     "metadata": {},
     "output_type": "execute_result"
    }
   ],
   "source": [
    "dump(LinearRegression_project_model,'LinearRegression_project_model.joblib')"
   ]
  },
  {
   "cell_type": "code",
   "execution_count": 160,
   "id": "ca500310-0f82-48ef-b2f8-fc735a6ad67f",
   "metadata": {},
   "outputs": [],
   "source": [
    "loaded_model = load('LinearRegression_project_model.joblib')"
   ]
  },
  {
   "cell_type": "code",
   "execution_count": 161,
   "id": "6551d6c7-5a7f-4334-bc12-c07050f68553",
   "metadata": {},
   "outputs": [],
   "source": [
    "assumption = [[20]]\n",
    "assumption = np.array(assumption).reshape(-1, 1)"
   ]
  },
  {
   "cell_type": "code",
   "execution_count": 162,
   "id": "1358294c-abea-4138-b2e1-2d42c575fff1",
   "metadata": {},
   "outputs": [
    {
     "data": {
      "text/plain": [
       "array([[419.56154301]])"
      ]
     },
     "execution_count": 162,
     "metadata": {},
     "output_type": "execute_result"
    }
   ],
   "source": [
    "loaded_model.predict(assumption)"
   ]
  },
  {
   "cell_type": "markdown",
   "id": "1156128a-4591-4d28-8b3c-ae5f4f6050ae",
   "metadata": {},
   "source": [
    "# POLYNOMIAL REGRESSION PART"
   ]
  },
  {
   "cell_type": "code",
   "execution_count": 163,
   "id": "73e401e8-7d3d-406d-9d8e-dcd3795e35cd",
   "metadata": {},
   "outputs": [],
   "source": [
    "from sklearn.preprocessing import PolynomialFeatures"
   ]
  },
  {
   "cell_type": "code",
   "execution_count": 164,
   "id": "11fded87-4479-42ad-8040-a69e7eb00b93",
   "metadata": {},
   "outputs": [],
   "source": [
    "converter = PolynomialFeatures(degree=2, include_bias=False)"
   ]
  },
  {
   "cell_type": "code",
   "execution_count": 165,
   "id": "42a8eb86-a696-4b89-9fac-260a361ecbc8",
   "metadata": {},
   "outputs": [
    {
     "data": {
      "text/html": [
       "<style>#sk-container-id-13 {color: black;background-color: white;}#sk-container-id-13 pre{padding: 0;}#sk-container-id-13 div.sk-toggleable {background-color: white;}#sk-container-id-13 label.sk-toggleable__label {cursor: pointer;display: block;width: 100%;margin-bottom: 0;padding: 0.3em;box-sizing: border-box;text-align: center;}#sk-container-id-13 label.sk-toggleable__label-arrow:before {content: \"▸\";float: left;margin-right: 0.25em;color: #696969;}#sk-container-id-13 label.sk-toggleable__label-arrow:hover:before {color: black;}#sk-container-id-13 div.sk-estimator:hover label.sk-toggleable__label-arrow:before {color: black;}#sk-container-id-13 div.sk-toggleable__content {max-height: 0;max-width: 0;overflow: hidden;text-align: left;background-color: #f0f8ff;}#sk-container-id-13 div.sk-toggleable__content pre {margin: 0.2em;color: black;border-radius: 0.25em;background-color: #f0f8ff;}#sk-container-id-13 input.sk-toggleable__control:checked~div.sk-toggleable__content {max-height: 200px;max-width: 100%;overflow: auto;}#sk-container-id-13 input.sk-toggleable__control:checked~label.sk-toggleable__label-arrow:before {content: \"▾\";}#sk-container-id-13 div.sk-estimator input.sk-toggleable__control:checked~label.sk-toggleable__label {background-color: #d4ebff;}#sk-container-id-13 div.sk-label input.sk-toggleable__control:checked~label.sk-toggleable__label {background-color: #d4ebff;}#sk-container-id-13 input.sk-hidden--visually {border: 0;clip: rect(1px 1px 1px 1px);clip: rect(1px, 1px, 1px, 1px);height: 1px;margin: -1px;overflow: hidden;padding: 0;position: absolute;width: 1px;}#sk-container-id-13 div.sk-estimator {font-family: monospace;background-color: #f0f8ff;border: 1px dotted black;border-radius: 0.25em;box-sizing: border-box;margin-bottom: 0.5em;}#sk-container-id-13 div.sk-estimator:hover {background-color: #d4ebff;}#sk-container-id-13 div.sk-parallel-item::after {content: \"\";width: 100%;border-bottom: 1px solid gray;flex-grow: 1;}#sk-container-id-13 div.sk-label:hover label.sk-toggleable__label {background-color: #d4ebff;}#sk-container-id-13 div.sk-serial::before {content: \"\";position: absolute;border-left: 1px solid gray;box-sizing: border-box;top: 0;bottom: 0;left: 50%;z-index: 0;}#sk-container-id-13 div.sk-serial {display: flex;flex-direction: column;align-items: center;background-color: white;padding-right: 0.2em;padding-left: 0.2em;position: relative;}#sk-container-id-13 div.sk-item {position: relative;z-index: 1;}#sk-container-id-13 div.sk-parallel {display: flex;align-items: stretch;justify-content: center;background-color: white;position: relative;}#sk-container-id-13 div.sk-item::before, #sk-container-id-13 div.sk-parallel-item::before {content: \"\";position: absolute;border-left: 1px solid gray;box-sizing: border-box;top: 0;bottom: 0;left: 50%;z-index: -1;}#sk-container-id-13 div.sk-parallel-item {display: flex;flex-direction: column;z-index: 1;position: relative;background-color: white;}#sk-container-id-13 div.sk-parallel-item:first-child::after {align-self: flex-end;width: 50%;}#sk-container-id-13 div.sk-parallel-item:last-child::after {align-self: flex-start;width: 50%;}#sk-container-id-13 div.sk-parallel-item:only-child::after {width: 0;}#sk-container-id-13 div.sk-dashed-wrapped {border: 1px dashed gray;margin: 0 0.4em 0.5em 0.4em;box-sizing: border-box;padding-bottom: 0.4em;background-color: white;}#sk-container-id-13 div.sk-label label {font-family: monospace;font-weight: bold;display: inline-block;line-height: 1.2em;}#sk-container-id-13 div.sk-label-container {text-align: center;}#sk-container-id-13 div.sk-container {/* jupyter's `normalize.less` sets `[hidden] { display: none; }` but bootstrap.min.css set `[hidden] { display: none !important; }` so we also need the `!important` here to be able to override the default hidden behavior on the sphinx rendered scikit-learn.org. See: https://github.com/scikit-learn/scikit-learn/issues/21755 */display: inline-block !important;position: relative;}#sk-container-id-13 div.sk-text-repr-fallback {display: none;}</style><div id=\"sk-container-id-13\" class=\"sk-top-container\"><div class=\"sk-text-repr-fallback\"><pre>PolynomialFeatures(include_bias=False)</pre><b>In a Jupyter environment, please rerun this cell to show the HTML representation or trust the notebook. <br />On GitHub, the HTML representation is unable to render, please try loading this page with nbviewer.org.</b></div><div class=\"sk-container\" hidden><div class=\"sk-item\"><div class=\"sk-estimator sk-toggleable\"><input class=\"sk-toggleable__control sk-hidden--visually\" id=\"sk-estimator-id-13\" type=\"checkbox\" checked><label for=\"sk-estimator-id-13\" class=\"sk-toggleable__label sk-toggleable__label-arrow\">PolynomialFeatures</label><div class=\"sk-toggleable__content\"><pre>PolynomialFeatures(include_bias=False)</pre></div></div></div></div></div>"
      ],
      "text/plain": [
       "PolynomialFeatures(include_bias=False)"
      ]
     },
     "execution_count": 165,
     "metadata": {},
     "output_type": "execute_result"
    }
   ],
   "source": [
    "converter.fit(X)"
   ]
  },
  {
   "cell_type": "code",
   "execution_count": 166,
   "id": "ae8eb1d6-e533-458a-8fe5-9a15d73dee79",
   "metadata": {},
   "outputs": [],
   "source": [
    "poly = converter.transform(X)"
   ]
  },
  {
   "cell_type": "code",
   "execution_count": 167,
   "id": "0cf47dbd-0f4b-45fe-90e2-14208cd69a00",
   "metadata": {},
   "outputs": [
    {
     "data": {
      "text/plain": [
       "array([[2.00000e+01, 4.00000e+02],\n",
       "       [3.00000e+01, 9.00000e+02],\n",
       "       [4.00000e+01, 1.60000e+03],\n",
       "       [5.00000e+01, 2.50000e+03],\n",
       "       [6.00000e+01, 3.60000e+03],\n",
       "       [7.00000e+01, 4.90000e+03],\n",
       "       [8.00000e+01, 6.40000e+03],\n",
       "       [9.00000e+01, 8.10000e+03],\n",
       "       [1.00000e+02, 1.00000e+04],\n",
       "       [1.05000e+02, 1.10250e+04],\n",
       "       [1.10000e+02, 1.21000e+04],\n",
       "       [1.15000e+02, 1.32250e+04],\n",
       "       [1.20000e+02, 1.44000e+04],\n",
       "       [1.25000e+02, 1.56250e+04],\n",
       "       [1.30000e+02, 1.69000e+04],\n",
       "       [1.35000e+02, 1.82250e+04],\n",
       "       [1.40000e+02, 1.96000e+04],\n",
       "       [1.45000e+02, 2.10250e+04],\n",
       "       [1.50000e+02, 2.25000e+04],\n",
       "       [1.60000e+02, 2.56000e+04],\n",
       "       [1.70000e+02, 2.89000e+04],\n",
       "       [1.80000e+02, 3.24000e+04],\n",
       "       [1.90000e+02, 3.61000e+04],\n",
       "       [2.00000e+02, 4.00000e+04],\n",
       "       [2.05000e+02, 4.20250e+04],\n",
       "       [2.10000e+02, 4.41000e+04],\n",
       "       [2.15000e+02, 4.62250e+04],\n",
       "       [2.20000e+02, 4.84000e+04],\n",
       "       [2.25000e+02, 5.06250e+04],\n",
       "       [8.40000e+01, 7.05600e+03],\n",
       "       [9.60000e+01, 9.21600e+03],\n",
       "       [9.80000e+01, 9.60400e+03],\n",
       "       [6.60000e+01, 4.35600e+03],\n",
       "       [1.11000e+02, 1.23210e+04],\n",
       "       [1.32000e+02, 1.74240e+04],\n",
       "       [1.17000e+02, 1.36890e+04],\n",
       "       [3.20000e+01, 1.02400e+03],\n",
       "       [4.60000e+01, 2.11600e+03],\n",
       "       [4.90000e+01, 2.40100e+03],\n",
       "       [5.80000e+01, 3.36400e+03],\n",
       "       [3.10000e+01, 9.61000e+02],\n",
       "       [2.90000e+01, 8.41000e+02],\n",
       "       [1.89000e+02, 3.57210e+04],\n",
       "       [1.84000e+02, 3.38560e+04],\n",
       "       [2.01000e+02, 4.04010e+04],\n",
       "       [1.91000e+02, 3.64810e+04],\n",
       "       [1.62000e+02, 2.62440e+04],\n",
       "       [1.59000e+02, 2.52810e+04],\n",
       "       [1.19000e+02, 1.41610e+04],\n",
       "       [1.44000e+02, 2.07360e+04],\n",
       "       [1.00000e+02, 1.00000e+04],\n",
       "       [1.13000e+02, 1.27690e+04],\n",
       "       [8.30000e+01, 6.88900e+03],\n",
       "       [1.90000e+01, 3.61000e+02],\n",
       "       [3.90000e+01, 1.52100e+03],\n",
       "       [4.40000e+01, 1.93600e+03],\n",
       "       [6.30000e+01, 3.96900e+03],\n",
       "       [1.63000e+02, 2.65690e+04],\n",
       "       [1.79000e+02, 3.20410e+04],\n",
       "       [2.11000e+02, 4.45210e+04],\n",
       "       [2.50000e+02, 6.25000e+04],\n",
       "       [2.55000e+02, 6.50250e+04],\n",
       "       [2.75000e+02, 7.56250e+04],\n",
       "       [2.69000e+02, 7.23610e+04],\n",
       "       [2.81000e+02, 7.89610e+04],\n",
       "       [2.91000e+02, 8.46810e+04],\n",
       "       [3.00000e+02, 9.00000e+04],\n",
       "       [3.52000e+02, 1.23904e+05],\n",
       "       [3.12000e+02, 9.73440e+04],\n",
       "       [4.02000e+02, 1.61604e+05],\n",
       "       [4.59000e+02, 2.10681e+05],\n",
       "       [3.59000e+02, 1.28881e+05],\n",
       "       [3.00000e+02, 9.00000e+04],\n",
       "       [3.91000e+02, 1.52881e+05],\n",
       "       [2.60000e+02, 6.76000e+04],\n",
       "       [3.60000e+02, 1.29600e+05],\n",
       "       [4.00000e+02, 1.60000e+05],\n",
       "       [4.10000e+02, 1.68100e+05],\n",
       "       [4.20000e+02, 1.76400e+05],\n",
       "       [4.30000e+02, 1.84900e+05],\n",
       "       [3.30000e+02, 1.08900e+05],\n",
       "       [2.40000e+02, 5.76000e+04],\n",
       "       [2.95000e+02, 8.70250e+04],\n",
       "       [4.90000e+02, 2.40100e+05],\n",
       "       [4.80000e+02, 2.30400e+05],\n",
       "       [4.12000e+02, 1.69744e+05],\n",
       "       [4.96000e+02, 2.46016e+05],\n",
       "       [2.67000e+02, 7.12890e+04],\n",
       "       [2.57000e+02, 6.60490e+04],\n",
       "       [2.49000e+02, 6.20010e+04],\n",
       "       [2.61000e+02, 6.81210e+04],\n",
       "       [3.93000e+02, 1.54449e+05],\n",
       "       [4.06000e+02, 1.64836e+05],\n",
       "       [4.09000e+02, 1.67281e+05],\n",
       "       [4.81000e+02, 2.31361e+05],\n",
       "       [3.71000e+02, 1.37641e+05],\n",
       "       [2.89000e+02, 8.35210e+04],\n",
       "       [3.89000e+02, 1.51321e+05],\n",
       "       [4.89000e+02, 2.39121e+05]])"
      ]
     },
     "execution_count": 167,
     "metadata": {},
     "output_type": "execute_result"
    }
   ],
   "source": [
    "poly"
   ]
  },
  {
   "cell_type": "code",
   "execution_count": 168,
   "id": "cd011c23-f5ff-4c9d-b5e9-a2aa49480f83",
   "metadata": {},
   "outputs": [
    {
     "data": {
      "text/plain": [
       "(99, 2)"
      ]
     },
     "execution_count": 168,
     "metadata": {},
     "output_type": "execute_result"
    }
   ],
   "source": [
    "poly.shape"
   ]
  },
  {
   "cell_type": "code",
   "execution_count": 169,
   "id": "7d6c8c6f-4909-4712-b2a5-83c426cb0c75",
   "metadata": {},
   "outputs": [],
   "source": [
    "from sklearn.model_selection import train_test_split\n",
    "X_train,X_test,Y_train,Y_test = train_test_split(X,y,test_size=0.3, random_state=101)"
   ]
  },
  {
   "cell_type": "code",
   "execution_count": 170,
   "id": "5eb965df-d74b-432b-8908-0291ddb402d8",
   "metadata": {},
   "outputs": [],
   "source": [
    "new_model = LinearRegression()"
   ]
  },
  {
   "cell_type": "code",
   "execution_count": 171,
   "id": "81ec61f2-ba33-4ecc-9741-025d32eb423a",
   "metadata": {},
   "outputs": [
    {
     "data": {
      "text/html": [
       "<style>#sk-container-id-14 {color: black;background-color: white;}#sk-container-id-14 pre{padding: 0;}#sk-container-id-14 div.sk-toggleable {background-color: white;}#sk-container-id-14 label.sk-toggleable__label {cursor: pointer;display: block;width: 100%;margin-bottom: 0;padding: 0.3em;box-sizing: border-box;text-align: center;}#sk-container-id-14 label.sk-toggleable__label-arrow:before {content: \"▸\";float: left;margin-right: 0.25em;color: #696969;}#sk-container-id-14 label.sk-toggleable__label-arrow:hover:before {color: black;}#sk-container-id-14 div.sk-estimator:hover label.sk-toggleable__label-arrow:before {color: black;}#sk-container-id-14 div.sk-toggleable__content {max-height: 0;max-width: 0;overflow: hidden;text-align: left;background-color: #f0f8ff;}#sk-container-id-14 div.sk-toggleable__content pre {margin: 0.2em;color: black;border-radius: 0.25em;background-color: #f0f8ff;}#sk-container-id-14 input.sk-toggleable__control:checked~div.sk-toggleable__content {max-height: 200px;max-width: 100%;overflow: auto;}#sk-container-id-14 input.sk-toggleable__control:checked~label.sk-toggleable__label-arrow:before {content: \"▾\";}#sk-container-id-14 div.sk-estimator input.sk-toggleable__control:checked~label.sk-toggleable__label {background-color: #d4ebff;}#sk-container-id-14 div.sk-label input.sk-toggleable__control:checked~label.sk-toggleable__label {background-color: #d4ebff;}#sk-container-id-14 input.sk-hidden--visually {border: 0;clip: rect(1px 1px 1px 1px);clip: rect(1px, 1px, 1px, 1px);height: 1px;margin: -1px;overflow: hidden;padding: 0;position: absolute;width: 1px;}#sk-container-id-14 div.sk-estimator {font-family: monospace;background-color: #f0f8ff;border: 1px dotted black;border-radius: 0.25em;box-sizing: border-box;margin-bottom: 0.5em;}#sk-container-id-14 div.sk-estimator:hover {background-color: #d4ebff;}#sk-container-id-14 div.sk-parallel-item::after {content: \"\";width: 100%;border-bottom: 1px solid gray;flex-grow: 1;}#sk-container-id-14 div.sk-label:hover label.sk-toggleable__label {background-color: #d4ebff;}#sk-container-id-14 div.sk-serial::before {content: \"\";position: absolute;border-left: 1px solid gray;box-sizing: border-box;top: 0;bottom: 0;left: 50%;z-index: 0;}#sk-container-id-14 div.sk-serial {display: flex;flex-direction: column;align-items: center;background-color: white;padding-right: 0.2em;padding-left: 0.2em;position: relative;}#sk-container-id-14 div.sk-item {position: relative;z-index: 1;}#sk-container-id-14 div.sk-parallel {display: flex;align-items: stretch;justify-content: center;background-color: white;position: relative;}#sk-container-id-14 div.sk-item::before, #sk-container-id-14 div.sk-parallel-item::before {content: \"\";position: absolute;border-left: 1px solid gray;box-sizing: border-box;top: 0;bottom: 0;left: 50%;z-index: -1;}#sk-container-id-14 div.sk-parallel-item {display: flex;flex-direction: column;z-index: 1;position: relative;background-color: white;}#sk-container-id-14 div.sk-parallel-item:first-child::after {align-self: flex-end;width: 50%;}#sk-container-id-14 div.sk-parallel-item:last-child::after {align-self: flex-start;width: 50%;}#sk-container-id-14 div.sk-parallel-item:only-child::after {width: 0;}#sk-container-id-14 div.sk-dashed-wrapped {border: 1px dashed gray;margin: 0 0.4em 0.5em 0.4em;box-sizing: border-box;padding-bottom: 0.4em;background-color: white;}#sk-container-id-14 div.sk-label label {font-family: monospace;font-weight: bold;display: inline-block;line-height: 1.2em;}#sk-container-id-14 div.sk-label-container {text-align: center;}#sk-container-id-14 div.sk-container {/* jupyter's `normalize.less` sets `[hidden] { display: none; }` but bootstrap.min.css set `[hidden] { display: none !important; }` so we also need the `!important` here to be able to override the default hidden behavior on the sphinx rendered scikit-learn.org. See: https://github.com/scikit-learn/scikit-learn/issues/21755 */display: inline-block !important;position: relative;}#sk-container-id-14 div.sk-text-repr-fallback {display: none;}</style><div id=\"sk-container-id-14\" class=\"sk-top-container\"><div class=\"sk-text-repr-fallback\"><pre>LinearRegression()</pre><b>In a Jupyter environment, please rerun this cell to show the HTML representation or trust the notebook. <br />On GitHub, the HTML representation is unable to render, please try loading this page with nbviewer.org.</b></div><div class=\"sk-container\" hidden><div class=\"sk-item\"><div class=\"sk-estimator sk-toggleable\"><input class=\"sk-toggleable__control sk-hidden--visually\" id=\"sk-estimator-id-14\" type=\"checkbox\" checked><label for=\"sk-estimator-id-14\" class=\"sk-toggleable__label sk-toggleable__label-arrow\">LinearRegression</label><div class=\"sk-toggleable__content\"><pre>LinearRegression()</pre></div></div></div></div></div>"
      ],
      "text/plain": [
       "LinearRegression()"
      ]
     },
     "execution_count": 171,
     "metadata": {},
     "output_type": "execute_result"
    }
   ],
   "source": [
    "new_model.fit(X_train,Y_train)"
   ]
  },
  {
   "cell_type": "code",
   "execution_count": 172,
   "id": "2a78f46d-90f3-4b39-87e3-440503f44289",
   "metadata": {},
   "outputs": [],
   "source": [
    "new_prediction = new_model.predict(X_test)"
   ]
  },
  {
   "cell_type": "code",
   "execution_count": 173,
   "id": "8fa6ffcb-9c9a-4ed0-9953-93a75bd5d721",
   "metadata": {},
   "outputs": [
    {
     "data": {
      "text/plain": [
       "array([[ 894.3044835 ],\n",
       "       [ 421.12121744],\n",
       "       [ 651.9734308 ],\n",
       "       [ 422.39664403],\n",
       "       [ 486.16797369],\n",
       "       [ 433.87548337],\n",
       "       [ 909.60960262],\n",
       "       [ 511.67650555],\n",
       "       [ 509.12565237],\n",
       "       [ 805.02462198],\n",
       "       [ 468.31200139],\n",
       "       [ 613.71063301],\n",
       "       [ 711.91848068],\n",
       "       [ 618.81233938],\n",
       "       [ 562.69356928],\n",
       "       [ 535.90961082],\n",
       "       [ 447.9051759 ],\n",
       "       [ 586.92667455],\n",
       "       [ 442.80346952],\n",
       "       [ 717.02018705],\n",
       "       [ 833.08400703],\n",
       "       [ 896.85533669],\n",
       "       [ 435.15090997],\n",
       "       [ 543.56217038],\n",
       "       [ 612.43520641],\n",
       "       [ 408.36695151],\n",
       "       [1009.09287689],\n",
       "       [ 528.25705127],\n",
       "       [ 627.74032553],\n",
       "       [ 549.93930335]])"
      ]
     },
     "execution_count": 173,
     "metadata": {},
     "output_type": "execute_result"
    }
   ],
   "source": [
    "new_prediction"
   ]
  },
  {
   "cell_type": "code",
   "execution_count": 174,
   "id": "c8b3a6d9-8816-4392-8d7a-374d483c0e7f",
   "metadata": {},
   "outputs": [],
   "source": [
    "new_mse = mean_squared_error(Y_test, new_prediction)"
   ]
  },
  {
   "cell_type": "code",
   "execution_count": 175,
   "id": "85360b9a-44a8-4987-9e6d-127bf65464c1",
   "metadata": {},
   "outputs": [
    {
     "data": {
      "text/plain": [
       "2573.7367550648246"
      ]
     },
     "execution_count": 175,
     "metadata": {},
     "output_type": "execute_result"
    }
   ],
   "source": [
    "new_mse"
   ]
  },
  {
   "cell_type": "code",
   "execution_count": 176,
   "id": "4655b6a3-19d2-469c-ab5c-5ce615fcdf5f",
   "metadata": {},
   "outputs": [],
   "source": [
    "new_rmse = np.sqrt(new_mse)"
   ]
  },
  {
   "cell_type": "code",
   "execution_count": 177,
   "id": "a5e17f9d-656b-469c-99b8-d629ef46ef31",
   "metadata": {},
   "outputs": [
    {
     "data": {
      "text/plain": [
       "50.73200917630628"
      ]
     },
     "execution_count": 177,
     "metadata": {},
     "output_type": "execute_result"
    }
   ],
   "source": [
    "new_rmse"
   ]
  },
  {
   "cell_type": "code",
   "execution_count": 178,
   "id": "eb51af94-d6bc-4731-b84f-52498812412d",
   "metadata": {},
   "outputs": [],
   "source": [
    "final_polynomial = LinearRegression()"
   ]
  },
  {
   "cell_type": "code",
   "execution_count": 179,
   "id": "bb993d0e-580d-43aa-bf06-ac5abe7f414f",
   "metadata": {},
   "outputs": [
    {
     "data": {
      "text/html": [
       "<style>#sk-container-id-15 {color: black;background-color: white;}#sk-container-id-15 pre{padding: 0;}#sk-container-id-15 div.sk-toggleable {background-color: white;}#sk-container-id-15 label.sk-toggleable__label {cursor: pointer;display: block;width: 100%;margin-bottom: 0;padding: 0.3em;box-sizing: border-box;text-align: center;}#sk-container-id-15 label.sk-toggleable__label-arrow:before {content: \"▸\";float: left;margin-right: 0.25em;color: #696969;}#sk-container-id-15 label.sk-toggleable__label-arrow:hover:before {color: black;}#sk-container-id-15 div.sk-estimator:hover label.sk-toggleable__label-arrow:before {color: black;}#sk-container-id-15 div.sk-toggleable__content {max-height: 0;max-width: 0;overflow: hidden;text-align: left;background-color: #f0f8ff;}#sk-container-id-15 div.sk-toggleable__content pre {margin: 0.2em;color: black;border-radius: 0.25em;background-color: #f0f8ff;}#sk-container-id-15 input.sk-toggleable__control:checked~div.sk-toggleable__content {max-height: 200px;max-width: 100%;overflow: auto;}#sk-container-id-15 input.sk-toggleable__control:checked~label.sk-toggleable__label-arrow:before {content: \"▾\";}#sk-container-id-15 div.sk-estimator input.sk-toggleable__control:checked~label.sk-toggleable__label {background-color: #d4ebff;}#sk-container-id-15 div.sk-label input.sk-toggleable__control:checked~label.sk-toggleable__label {background-color: #d4ebff;}#sk-container-id-15 input.sk-hidden--visually {border: 0;clip: rect(1px 1px 1px 1px);clip: rect(1px, 1px, 1px, 1px);height: 1px;margin: -1px;overflow: hidden;padding: 0;position: absolute;width: 1px;}#sk-container-id-15 div.sk-estimator {font-family: monospace;background-color: #f0f8ff;border: 1px dotted black;border-radius: 0.25em;box-sizing: border-box;margin-bottom: 0.5em;}#sk-container-id-15 div.sk-estimator:hover {background-color: #d4ebff;}#sk-container-id-15 div.sk-parallel-item::after {content: \"\";width: 100%;border-bottom: 1px solid gray;flex-grow: 1;}#sk-container-id-15 div.sk-label:hover label.sk-toggleable__label {background-color: #d4ebff;}#sk-container-id-15 div.sk-serial::before {content: \"\";position: absolute;border-left: 1px solid gray;box-sizing: border-box;top: 0;bottom: 0;left: 50%;z-index: 0;}#sk-container-id-15 div.sk-serial {display: flex;flex-direction: column;align-items: center;background-color: white;padding-right: 0.2em;padding-left: 0.2em;position: relative;}#sk-container-id-15 div.sk-item {position: relative;z-index: 1;}#sk-container-id-15 div.sk-parallel {display: flex;align-items: stretch;justify-content: center;background-color: white;position: relative;}#sk-container-id-15 div.sk-item::before, #sk-container-id-15 div.sk-parallel-item::before {content: \"\";position: absolute;border-left: 1px solid gray;box-sizing: border-box;top: 0;bottom: 0;left: 50%;z-index: -1;}#sk-container-id-15 div.sk-parallel-item {display: flex;flex-direction: column;z-index: 1;position: relative;background-color: white;}#sk-container-id-15 div.sk-parallel-item:first-child::after {align-self: flex-end;width: 50%;}#sk-container-id-15 div.sk-parallel-item:last-child::after {align-self: flex-start;width: 50%;}#sk-container-id-15 div.sk-parallel-item:only-child::after {width: 0;}#sk-container-id-15 div.sk-dashed-wrapped {border: 1px dashed gray;margin: 0 0.4em 0.5em 0.4em;box-sizing: border-box;padding-bottom: 0.4em;background-color: white;}#sk-container-id-15 div.sk-label label {font-family: monospace;font-weight: bold;display: inline-block;line-height: 1.2em;}#sk-container-id-15 div.sk-label-container {text-align: center;}#sk-container-id-15 div.sk-container {/* jupyter's `normalize.less` sets `[hidden] { display: none; }` but bootstrap.min.css set `[hidden] { display: none !important; }` so we also need the `!important` here to be able to override the default hidden behavior on the sphinx rendered scikit-learn.org. See: https://github.com/scikit-learn/scikit-learn/issues/21755 */display: inline-block !important;position: relative;}#sk-container-id-15 div.sk-text-repr-fallback {display: none;}</style><div id=\"sk-container-id-15\" class=\"sk-top-container\"><div class=\"sk-text-repr-fallback\"><pre>LinearRegression()</pre><b>In a Jupyter environment, please rerun this cell to show the HTML representation or trust the notebook. <br />On GitHub, the HTML representation is unable to render, please try loading this page with nbviewer.org.</b></div><div class=\"sk-container\" hidden><div class=\"sk-item\"><div class=\"sk-estimator sk-toggleable\"><input class=\"sk-toggleable__control sk-hidden--visually\" id=\"sk-estimator-id-15\" type=\"checkbox\" checked><label for=\"sk-estimator-id-15\" class=\"sk-toggleable__label sk-toggleable__label-arrow\">LinearRegression</label><div class=\"sk-toggleable__content\"><pre>LinearRegression()</pre></div></div></div></div></div>"
      ],
      "text/plain": [
       "LinearRegression()"
      ]
     },
     "execution_count": 179,
     "metadata": {},
     "output_type": "execute_result"
    }
   ],
   "source": [
    "final_polynomial.fit(poly,y) "
   ]
  },
  {
   "cell_type": "code",
   "execution_count": 180,
   "id": "b3a11628-b0e8-45a9-a468-6dff81610275",
   "metadata": {},
   "outputs": [],
   "source": [
    "from joblib import dump, load"
   ]
  },
  {
   "cell_type": "code",
   "execution_count": 181,
   "id": "0ad0cb73-ce07-4a84-9149-1bb017a2619e",
   "metadata": {},
   "outputs": [
    {
     "data": {
      "text/plain": [
       "['final_polynomial_model.joblib']"
      ]
     },
     "execution_count": 181,
     "metadata": {},
     "output_type": "execute_result"
    }
   ],
   "source": [
    "dump(final_polynomial,'final_polynomial_model.joblib')"
   ]
  },
  {
   "cell_type": "code",
   "execution_count": 182,
   "id": "a5521430-8ec0-4379-9978-2704f87ed128",
   "metadata": {},
   "outputs": [],
   "source": [
    "loaded_model = load('final_polynomial_model.joblib')"
   ]
  },
  {
   "cell_type": "code",
   "execution_count": 183,
   "id": "e0010d8e-2463-45f8-a36e-dbf6081060f0",
   "metadata": {},
   "outputs": [
    {
     "data": {
      "text/plain": [
       "['converter.joblib']"
      ]
     },
     "execution_count": 183,
     "metadata": {},
     "output_type": "execute_result"
    }
   ],
   "source": [
    "dump(converter,'converter.joblib')"
   ]
  },
  {
   "cell_type": "code",
   "execution_count": 184,
   "id": "47f7b62c-8ab0-45a6-8417-3d276998991d",
   "metadata": {},
   "outputs": [],
   "source": [
    "from joblib import load\n"
   ]
  },
  {
   "cell_type": "code",
   "execution_count": 185,
   "id": "3fecb9f5-4e76-4cb5-be3a-65d47861dbcb",
   "metadata": {},
   "outputs": [],
   "source": [
    "loaded_converter = load('converter.joblib')"
   ]
  },
  {
   "cell_type": "code",
   "execution_count": 186,
   "id": "a90017e6-88ae-4b33-89dc-dc2b0919759d",
   "metadata": {},
   "outputs": [],
   "source": [
    "predict = [[20]]"
   ]
  },
  {
   "cell_type": "code",
   "execution_count": 187,
   "id": "95bf06df-0ec3-42af-91be-a5fdc6f86c44",
   "metadata": {},
   "outputs": [],
   "source": [
    "transformed = loaded_converter.fit_transform(predict)"
   ]
  },
  {
   "cell_type": "code",
   "execution_count": 188,
   "id": "301071d2-f168-4495-beb2-6d6d6a5e3df4",
   "metadata": {},
   "outputs": [
    {
     "data": {
      "text/plain": [
       "array([[ 20., 400.]])"
      ]
     },
     "execution_count": 188,
     "metadata": {},
     "output_type": "execute_result"
    }
   ],
   "source": [
    "transformed"
   ]
  },
  {
   "cell_type": "code",
   "execution_count": 189,
   "id": "ecff54b2-3062-4619-bab2-a9b9d71062e0",
   "metadata": {},
   "outputs": [
    {
     "data": {
      "text/plain": [
       "array([[476.70500099]])"
      ]
     },
     "execution_count": 189,
     "metadata": {},
     "output_type": "execute_result"
    }
   ],
   "source": [
    "loaded_model.predict(transformed)"
   ]
  },
  {
   "cell_type": "code",
   "execution_count": null,
   "id": "ab0be5c0-a71f-45d9-b879-17a75e86a23a",
   "metadata": {},
   "outputs": [],
   "source": []
  }
 ],
 "metadata": {
  "kernelspec": {
   "display_name": "Python 3 (ipykernel)",
   "language": "python",
   "name": "python3"
  },
  "language_info": {
   "codemirror_mode": {
    "name": "ipython",
    "version": 3
   },
   "file_extension": ".py",
   "mimetype": "text/x-python",
   "name": "python",
   "nbconvert_exporter": "python",
   "pygments_lexer": "ipython3",
   "version": "3.11.7"
  }
 },
 "nbformat": 4,
 "nbformat_minor": 5
}
